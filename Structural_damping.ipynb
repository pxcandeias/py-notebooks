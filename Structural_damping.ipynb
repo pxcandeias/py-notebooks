{
 "cells": [
  {
   "cell_type": "markdown",
   "metadata": {},
   "source": [
    "<a id='top'></a>\n",
    "\n",
    "# Structural damping\n",
    "\n",
    "Table of contents:\n",
    "\n",
    "[Introduction](#Introduction)\n",
    "\n",
    "[Dynamic equilibrium equation](#Dynamic-equilibrium-equation)\n",
    "\n",
    "[Computational lab](#Computational-lab)\n",
    "\n",
    "[Mass proportional damping](#Mass-proportional-damping)\n",
    "\n",
    "[Stiffness proportional damping](#Stiffness-proportional-damping)\n",
    "\n",
    "[Rayleigh damping](#Rayleigh-damping)\n",
    "\n",
    "[Caughey damping](#Caughey-damping)\n",
    "\n",
    "[Odds and ends](#Odds-and-ends)\n",
    "\n",
    "References:\n",
    "\n",
    "http://www.sciencedirect.com/science/article/pii/S0020768313003727\n",
    "\n",
    "http://www.sandv.com/downloads/1306schw.pdf\n",
    "\n",
    "http://engweb.swan.ac.uk/~adhikaris/fulltext/conference/ftc27.pdf\n",
    "\n",
    "https://wiki.csiamerica.com/display/kb/Damping+coefficients\n",
    "\n",
    "https://www.orcina.com/SoftwareProducts/OrcaFlex/Documentation/Help/Content/html/RayleighDamping,Guidance.htm\n",
    "\n",
    "## Introduction\n",
    "\n",
    "In structural dynamics, mass and stiffness can be computed directly from the geometric characteristics and material properties of a structure but damping can only be estimated based on the fact that structural dynamic responses are, well, damped. It is usually assumed that structural damping is viscous, in the absence of more accurate information, which fits nicely in the [dynamic equilibrium equation](#Dynamic-equilibrium-equation) classical solution.\n",
    "\n",
    "This python notebook will explore the following types of viscous damping in the computation of the dynamic responses of multi-degree-of-freedom systems:\n",
    "\n",
    "1. [Mass proportional damping](#Mass-proportional-damping)\n",
    "2. [Stiffness proportional damping](#Stiffness-proportional-damping)\n",
    "3. [Rayleigh damping](#Rayleigh-damping)\n",
    "4. [Caughey damping](#Caughey-damping)\n",
    "\n",
    "When using any of these types of damping, the damping matrix is orthogonal to the modal matrix and, therefore, it is diagonalizable. This constitutes a clear advantage when it comes to solving the dynamic equilibrium equation system for multi-degree-of-freedom systems.\n",
    "\n",
    "[Back to top](#top)\n",
    "\n",
    "## Dynamic equilibrium equation\n",
    "\n",
    "In structural dynamics the second order differential dynamic equilibrium equation can be written in terms of generalized coordinates (d[isplacement]) and their first (v[elocity]) and second (a[cceleration]) time derivatives:\n",
    "\n",
    "\\begin{equation}\n",
    "\\mathbf{M} \\times \\mathbf{a(t)} + \\mathbf{C} \\times \\mathbf{v(t)} + \\mathbf{K} \\times \\mathbf{d(t)} = \\mathbf{F(t)}\n",
    "\\end{equation}\n",
    "\n",
    "where:\n",
    "\n",
    "> $\\mathbf{M}$ is the mass matrix  \n",
    "> $\\mathbf{C}$ is the damping matrix  \n",
    "> $\\mathbf{K}$ is the stiffness matrix  \n",
    "> $\\mathbf{a(t)}$ is the acceleration vector  \n",
    "> $\\mathbf{v(t)}$ is the velocity vector  \n",
    "> $\\mathbf{d(t)}$ is the displacement vector  \n",
    "> $\\mathbf{F(t)}$ is the force input vector  \n",
    "\n",
    "In a multi-degree-of-freedom dynamic system all these matrices are of size $NDOF \\times NDOF$, where $NDOF$ is the number of generalized degrees of freedom. Carrying out the usual coordinate transformation from generalized coordinates to modal coordinates, $\\mathbf{d(t)} = \\mathbf{\\Phi}^T \\times \\mathbf{q(t)}$, and pre-multiplying by the transpose of the modal matrix, $\\mathbf{\\Phi}^T$, one obtains the following:\n",
    "\n",
    "\\begin{equation}\n",
    "\\mathbf{\\Phi}^T \\times \\mathbf{M} \\times \\mathbf{\\Phi} \\times \\mathbf{\\ddot q(t)} + \\mathbf{\\Phi}^T \\times \\mathbf{C} \\times \\mathbf{\\Phi} \\times \\mathbf{\\dot q(t)} + \\mathbf{\\Phi}^T \\times \\mathbf{K} \\times \\mathbf{\\Phi} \\times \\mathbf{q(t)} = \\mathbf{\\Phi}^T \\times \\mathbf{F(t)}\n",
    "\\end{equation}\n",
    "\n",
    "where:\n",
    "\n",
    "> $\\mathbf{\\Phi}^T \\times \\mathbf{M} \\times \\mathbf{\\Phi} = \\mathbf{M_n}$ is a diagonal matrix (with modal mass in the main diagonal)  \n",
    "> $\\mathbf{\\Phi}^T \\times \\mathbf{K} \\times \\mathbf{\\Phi} = \\mathbf{K_n}$ is a diagonal matrix (with modal stiffness in the main diagonal)  \n",
    "\n",
    "On the contrary, the product $\\mathbf{\\Phi}^T \\times \\mathbf{C} \\times \\mathbf{\\Phi}$ is a diagonal matrix (with modal damping in the main diagonal) only in certain circunstances. This is achieved when damping is \"proportional\" to either mass or stiffness or a combination of both.\n",
    "\n",
    "When this happens, the previous dynamic equilibrium equation system transforms into a set of $NDOF$ one-degree-of-freedom independent dynamic equilibrium equations (modal equations):\n",
    "\n",
    "\\begin{equation}\n",
    "\\mathbf{M_n} \\times \\mathbf{\\ddot q(t)} + \\mathbf{C_n} \\times \\mathbf{\\dot q(t)} + \\mathbf{K_n} \\times \\mathbf{q(t)} = \\mathbf{F_n(t)}\n",
    "\\end{equation}\n",
    "\n",
    "The $NDOF$ independent modal equilibrium equations can be rewritten as:\n",
    "\n",
    "\\begin{equation}\n",
    "\\mathbf{\\ddot q(t)} + \\mathbf{2 \\times \\zeta_n \\times \\omega_n} \\times \\mathbf{\\dot q(t)} + \\mathbf{\\omega_n^2} \\times \\mathbf{q(t)} = \\mathbf{a_n(t)}\n",
    "\\end{equation}\n",
    "\n",
    "where:\n",
    "\n",
    "> $\\zeta_n$ is the modal damping coefficient of mode $N$  \n",
    "> $\\omega_n$ is the modal angular frequency of mode $N$  \n",
    "> $a_n(t)$ is the modal excitation of mode $N$  \n",
    "\n",
    "The solution of these $NDOF$ independent dynamic equilibrium equations is:\n",
    "\n",
    "\\begin{equation}\n",
    "\\mathbf{q(t)} = \\mathbf{q(t)}\n",
    "\\end{equation}\n",
    "\n",
    "[Back to top](#top)\n",
    "\n",
    "## Computational lab\n",
    "\n",
    "Before proceeding any further, let us set the computational lab:"
   ]
  },
  {
   "cell_type": "code",
   "execution_count": 1,
   "metadata": {
    "collapsed": false
   },
   "outputs": [
    {
     "name": "stdout",
     "output_type": "stream",
     "text": [
      "System: 3.5.2 |Anaconda custom (64-bit)| (default, Jul  5 2016, 11:41:13) [MSC v.1900 64 bit (AMD64)]\n",
      "Package: numpy 1.11.2\n",
      "Package: matplotlib 1.5.3\n"
     ]
    }
   ],
   "source": [
    "import sys\n",
    "import math\n",
    "import numpy as np\n",
    "import matplotlib as mpl\n",
    "print('System: {}'.format(sys.version))\n",
    "for package in (np, mpl):\n",
    "    print('Package: {} {}'.format(package.__name__, package.__version__))"
   ]
  },
  {
   "cell_type": "code",
   "execution_count": 2,
   "metadata": {
    "collapsed": true
   },
   "outputs": [],
   "source": [
    "import matplotlib.pyplot as plt\n",
    "%matplotlib inline"
   ]
  },
  {
   "cell_type": "markdown",
   "metadata": {},
   "source": [
    "[Back to top](#top)\n",
    "\n",
    "## Mass proportional damping\n",
    "\n",
    "Mass proportional damping means that damping is somehow a multiple of the mass:\n",
    "\n",
    "\\begin{equation}\n",
    "\\mathbf{C} = \\alpha \\times \\mathbf{M}\n",
    "\\end{equation}\n",
    "\n",
    "where $\\alpha$ is the constant of mass proportionality. In these circunstances, the dynamic equilibrium equation can be written as:\n",
    "\n",
    "\\begin{equation}\n",
    "\\mathbf{M} \\times \\mathbf{a(t)} + \\alpha \\times \\mathbf{M} \\times \\mathbf{v(t)} + \\mathbf{K} \\times \\mathbf{d(t)} = \\mathbf{F(t)}\n",
    "\\end{equation}\n",
    "\n",
    "Proceeding the same as above, one obtains the $NDOF$ independent modal equilibrium equations:\n",
    "\n",
    "\\begin{equation}\n",
    "\\mathbf{M_n} \\times \\mathbf{\\ddot q_n(t)} + \\alpha \\times \\mathbf{M_n} \\times \\mathbf{\\dot q_n(t)} + \\mathbf{K_n} \\times \\mathbf{q_n(t)} = \\mathbf{F_n(t)}\n",
    "\\end{equation}\n",
    "\n",
    "or, equivalently:\n",
    "\n",
    "\\begin{equation}\n",
    "\\mathbf{\\ddot q_n(t)} + \\alpha \\times \\mathbf{\\dot q_n(t)} + \\mathbf{\\omega_n^2} \\times \\mathbf{q_n(t)} = \\mathbf{a_n(t)}\n",
    "\\end{equation}\n",
    "\n",
    "Comparing expressions, it can be seen that\n",
    "\n",
    "\\begin{equation}\n",
    "\\alpha = 2 \\times \\zeta_n \\times \\omega_n \\Leftrightarrow \\zeta_n = \\frac{\\alpha}{2 \\times \\omega_n}\n",
    "\\end{equation}\n"
   ]
  },
  {
   "cell_type": "code",
   "execution_count": null,
   "metadata": {
    "collapsed": true
   },
   "outputs": [],
   "source": []
  },
  {
   "cell_type": "markdown",
   "metadata": {},
   "source": [
    "[Back to top](#top)\n",
    "\n",
    "## Stiffness proportional damping\n",
    "\n",
    "Stiffness proportional damping means that damping is somehow a multiple of stiffness:\n",
    "\n",
    "\\begin{equation}\n",
    "\\mathbf{C} = \\beta \\times \\mathbf{K}\n",
    "\\end{equation}\n",
    "\n",
    "where $\\beta$ is the constant of stiffness proportionality. In these circunstances, the dynamic equilibrium equation can be written as:\n",
    "\n",
    "\\begin{equation}\n",
    "\\mathbf{M} \\times \\mathbf{a(t)} + \\beta \\times \\mathbf{K} \\times \\mathbf{v(t)} + \\mathbf{K} \\times \\mathbf{d(t)} = \\mathbf{F(t)}\n",
    "\\end{equation}\n",
    "\n",
    "Proceeding the same as above, one obtains the $NDOF$ independent modal equilibrium equations:\n",
    "\n",
    "\\begin{equation}\n",
    "\\mathbf{M_n} \\times \\mathbf{\\ddot q_n(t)} + \\beta \\times \\mathbf{K_n} \\times \\mathbf{\\dot q_n(t)} + \\mathbf{K_n} \\times \\mathbf{q_n(t)} = \\mathbf{F_n(t)}\n",
    "\\end{equation}\n",
    "\n",
    "or, equivalently:\n",
    "\n",
    "\\begin{equation}\n",
    "\\mathbf{\\ddot q_n(t)} + \\beta \\times \\mathbf{\\omega_n^2} \\times \\mathbf{\\dot q_n(t)} + \\mathbf{\\omega_n^2} \\times \\mathbf{q_n(t)} = \\mathbf{a_n(t)}\n",
    "\\end{equation}\n",
    "\n",
    "Comparing expressions, it can be seen that\n",
    "\n",
    "\\begin{equation}\n",
    "\\beta \\times \\omega_n^2 = 2 \\times \\zeta \\times \\omega_n \\Leftrightarrow \\zeta_n = \\frac{\\omega_n \\times \\beta}{2}\n",
    "\\end{equation}\n"
   ]
  },
  {
   "cell_type": "code",
   "execution_count": null,
   "metadata": {
    "collapsed": true
   },
   "outputs": [],
   "source": []
  },
  {
   "cell_type": "markdown",
   "metadata": {},
   "source": [
    "[Back to top](#top)\n",
    "\n",
    "## Rayleigh damping\n",
    "\n",
    "Rayleigh damping means that the damping coefficient is a combination of the former, that is, it is a multiple of mass and stifnness:\n",
    "\n",
    "\\begin{equation}\n",
    "\\mathbf{C} = \\alpha \\times \\mathbf{M} + \\beta \\times \\mathbf{K}\n",
    "\\end{equation}\n",
    "\n",
    "where $\\alpha$ and $\\beta$ have the previous meanings.\n"
   ]
  },
  {
   "cell_type": "code",
   "execution_count": null,
   "metadata": {
    "collapsed": true
   },
   "outputs": [],
   "source": []
  },
  {
   "cell_type": "markdown",
   "metadata": {},
   "source": [
    "[Back to top](#top)\n",
    "\n",
    "## Caughey damping\n",
    "\n",
    "TBD: [Caughey damping][1], a.k.a. extended Rayleigh damping, \n",
    "\n",
    "\\begin{equation}\n",
    "\\mathbf{C} = \\mathbf{M} \\sum_{j=0}^{N-1}{\\alpha_j \\left[ M^{-1}K \\right]^j}\n",
    "\\end{equation}\n",
    "\n",
    "[1]: Caughey, T.K. “Classical Normal Modes in Damped Linear Dynamic Systems,” Journal of Applied Mechanics, 27(2)(1960): 269–271\n"
   ]
  },
  {
   "cell_type": "code",
   "execution_count": null,
   "metadata": {
    "collapsed": true
   },
   "outputs": [],
   "source": []
  },
  {
   "cell_type": "markdown",
   "metadata": {},
   "source": [
    "[Back to top](#top)\n",
    "\n",
    "## Odds and ends\n",
    "\n",
    "This notebook was created by Paulo Xavier Candeias.\n",
    "\n",
    "[Back to top](#top)"
   ]
  },
  {
   "cell_type": "code",
   "execution_count": null,
   "metadata": {
    "collapsed": true
   },
   "outputs": [],
   "source": []
  }
 ],
 "metadata": {
  "anaconda-cloud": {},
  "kernelspec": {
   "display_name": "Python [default]",
   "language": "python",
   "name": "python3"
  },
  "language_info": {
   "codemirror_mode": {
    "name": "ipython",
    "version": 3
   },
   "file_extension": ".py",
   "mimetype": "text/x-python",
   "name": "python",
   "nbconvert_exporter": "python",
   "pygments_lexer": "ipython3",
   "version": "3.5.2"
  }
 },
 "nbformat": 4,
 "nbformat_minor": 1
}
