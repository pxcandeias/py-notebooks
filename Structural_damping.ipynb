{
 "cells": [
  {
   "cell_type": "markdown",
   "metadata": {},
   "source": [
    "<a id='top'></a>\n",
    "\n",
    "# Structural damping\n",
    "\n",
    "Table of contents:\n",
    "\n",
    "[Introduction](#Introduction)\n",
    "\n",
    "[Dynamic equilibrium equation](#Dynamic-equilibrium-equation)\n",
    "\n",
    "[Computational lab](#Computational-lab)\n",
    "\n",
    "[Stiffness proportional damping](#Stiffness-proportional-damping)\n",
    "\n",
    "[Mass proportional damping](#Mass-proportional-damping)\n",
    "\n",
    "[Rayleigh damping](#Rayleigh-damping)\n",
    "\n",
    "[Odds and ends](#Odds-and-ends)\n",
    "\n",
    "References:\n",
    "\n",
    "http://www.sciencedirect.com/science/article/pii/S0020768313003727\n",
    "\n",
    "http://www.sandv.com/downloads/1306schw.pdf\n",
    "\n",
    "http://engweb.swan.ac.uk/~adhikaris/fulltext/conference/ftc27.pdf\n",
    "\n",
    "https://wiki.csiamerica.com/display/kb/Damping+coefficients\n",
    "\n",
    "https://www.orcina.com/SoftwareProducts/OrcaFlex/Documentation/Help/Content/html/RayleighDamping,Guidance.htm\n",
    "\n",
    "## Introduction\n",
    "\n",
    "In structural dynamics, mass and stiffness can be computed directly from the geometric characteristics and material properties of a structure but damping can only be estimated based on the fact that structural dynamic responses are, well, damped. It is usually assumed that structural damping is viscous, in the absence of more accurate information, which fits nicely in the [dynamic equilibrium equation](#Dynamic-equilibrium-equation).\n",
    "\n",
    "This python notebook will explore three types of viscous damping normally considered in the computation of dynamic responses:\n",
    "\n",
    "1. [Stiffness proportional damping](#Stiffness-proportional-damping)\n",
    "2. [Mass proportional damping](#Mass-proportional-damping)\n",
    "3. [Rayleigh damping](#Rayleigh-damping)\n",
    "\n",
    "[Back to top](#top)\n",
    "\n",
    "## Dynamic equilibrium equation\n",
    "\n",
    "In structural dynamics the second order differential dynamic equilibrium equation can be written in terms of generalized coordinates (d[isplacement]) and their first (v[elocity]) and second (a[cceleration]) time derivatives:\n",
    "\n",
    "\\begin{equation}\n",
    "\\mathbf{M} \\times \\mathbf{a(t)} + \\mathbf{C} \\times \\mathbf{v(t)} + \\mathbf{K} \\times \\mathbf{d(t)} = \\mathbf{F(t)}\n",
    "\\end{equation}\n",
    "\n",
    "where:\n",
    "\n",
    "> $\\mathbf{M}$ is the mass matrix  \n",
    "> $\\mathbf{C}$ is the damping matrix  \n",
    "> $\\mathbf{K}$ is the stiffness matrix  \n",
    "> $\\mathbf{a(t)}$ is the acceleration vector  \n",
    "> $\\mathbf{v(t)}$ is the velocity vector  \n",
    "> $\\mathbf{d(t)}$ is the displacement vector  \n",
    "> $\\mathbf{F(t)}$ is the force input vector  \n",
    "\n",
    "All these matrices are of size $NDOF \\times NDOF$, where $NDOF$ is the number of generalized degrees of freedom of the dynamic system.\n",
    "\n",
    "## Computational lab"
   ]
  },
  {
   "cell_type": "code",
   "execution_count": 1,
   "metadata": {
    "collapsed": false
   },
   "outputs": [
    {
     "name": "stdout",
     "output_type": "stream",
     "text": [
      "System: 3.5.2 |Anaconda custom (64-bit)| (default, Jul  5 2016, 11:41:13) [MSC v.1900 64 bit (AMD64)]\n",
      "Package: numpy 1.11.2\n",
      "Package: matplotlib 1.5.3\n"
     ]
    }
   ],
   "source": [
    "import sys\n",
    "import math\n",
    "import numpy as np\n",
    "import matplotlib as mpl\n",
    "print('System: {}'.format(sys.version))\n",
    "for package in (np, mpl):\n",
    "    print('Package: {} {}'.format(package.__name__, package.__version__))"
   ]
  },
  {
   "cell_type": "code",
   "execution_count": 2,
   "metadata": {
    "collapsed": true
   },
   "outputs": [],
   "source": [
    "import matplotlib.pyplot as plt\n",
    "%matplotlib inline"
   ]
  },
  {
   "cell_type": "markdown",
   "metadata": {},
   "source": [
    "[Back to top](#top)\n",
    "\n",
    "## Stiffness proportional damping\n",
    "\n",
    "Stiffness proportional damping means that the damping coefficient is somehow a multiple of stiffness:\n",
    "\n",
    "$$\\left[ C \\right] = \\beta \\times \\left[ K \\right]$$\n",
    "\n",
    "where $\\beta$ is the constant of stiffness proportionality."
   ]
  },
  {
   "cell_type": "code",
   "execution_count": null,
   "metadata": {
    "collapsed": true
   },
   "outputs": [],
   "source": []
  },
  {
   "cell_type": "markdown",
   "metadata": {},
   "source": [
    "[Back to top](#top)\n",
    "\n",
    "## Mass proportional damping\n",
    "\n",
    "Mass proportional damping means that the damping coefficient is somehow a multiple of mass:\n",
    "\n",
    "$$\\left[ C \\right] = \\alpha \\times \\left[ M \\right]$$\n",
    "\n",
    "where $\\alpha$ is the constant of mass proportionality."
   ]
  },
  {
   "cell_type": "code",
   "execution_count": null,
   "metadata": {
    "collapsed": true
   },
   "outputs": [],
   "source": []
  },
  {
   "cell_type": "markdown",
   "metadata": {},
   "source": [
    "[Back to top](#top)\n",
    "\n",
    "## Rayleigh damping\n",
    "\n",
    "Rayleigh damping means that the damping coefficient is a combination of the former, that is, it is a multiple of mass and stifnness:\n",
    "\n",
    "$$\\left[ C \\right] = \\alpha \\times \\left[ M \\right] + \\beta \\times \\left[ K \\right]$$\n",
    "\n",
    "where $\\alpha$ and $\\beta$ have the previous meanings."
   ]
  },
  {
   "cell_type": "code",
   "execution_count": null,
   "metadata": {
    "collapsed": true
   },
   "outputs": [],
   "source": []
  },
  {
   "cell_type": "markdown",
   "metadata": {},
   "source": [
    "[Back to top](#top)\n",
    "\n",
    "## Odds and ends\n",
    "\n",
    "This notebook was created by Paulo Xavier Candeias.\n",
    "\n",
    "[Back to top](#top)"
   ]
  },
  {
   "cell_type": "code",
   "execution_count": null,
   "metadata": {
    "collapsed": true
   },
   "outputs": [],
   "source": []
  }
 ],
 "metadata": {
  "anaconda-cloud": {},
  "kernelspec": {
   "display_name": "Python [default]",
   "language": "python",
   "name": "python3"
  },
  "language_info": {
   "codemirror_mode": {
    "name": "ipython",
    "version": 3
   },
   "file_extension": ".py",
   "mimetype": "text/x-python",
   "name": "python",
   "nbconvert_exporter": "python",
   "pygments_lexer": "ipython3",
   "version": "3.5.2"
  }
 },
 "nbformat": 4,
 "nbformat_minor": 1
}
