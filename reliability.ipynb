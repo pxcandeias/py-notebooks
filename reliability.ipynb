{
 "cells": [
  {
   "cell_type": "markdown",
   "metadata": {},
   "source": [
    "# Structural reliability analysis"
   ]
  },
  {
   "cell_type": "markdown",
   "metadata": {},
   "source": [
    "Notebook inspired by\n",
    "\n",
    "http://www.math.chalmers.se/Stat/Grundutb/CTH/mve300/1112/files/Lecture10/Lecture10.pdf\n",
    "\n",
    "Safety indexes:\n",
    "\n",
    "  Cornell safety index\n",
    "  Hasofer-Lind index\n",
    "\n",
    "Concepts and examples\n",
    "\n",
    "https://www.palisade.com/downloads/pdf/EngineeringReliabilityConcepts.pdf\n",
    "\n",
    "Other reference\n",
    "\n",
    "http://www.eurocodes.fi/1990/paasivu1990/sahkoinen1990/handbook2%5B1%5D.pdf\n",
    "\n",
    "Main references\n",
    "\n",
    "http://www.km.fgg.uni-lj.si/coste24/data/coimbradocuments/coimbra-faber.pdf\n",
    "\n",
    "http://www.kstr.lth.se/fileadmin/kstr/pdf_files/STforsk_kurs-10/presentatione_rmm/reliability_analysis10__Kompatibilitetslaege_.pdf\n",
    "\n",
    "http://web.mae.ufl.edu/nkim/eas6939/RBDO_Class.pdf\n",
    "\n",
    "http://civile.utcb.ro/ccba/srracourse.pdf"
   ]
  },
  {
   "cell_type": "code",
   "execution_count": 1,
   "metadata": {
    "collapsed": false
   },
   "outputs": [],
   "source": [
    "% matplotlib inline\n",
    "\n",
    "import numpy as np\n",
    "from scipy.stats import norm\n",
    "from scipy.integrate import quad\n",
    "import matplotlib.pyplot as plt"
   ]
  },
  {
   "cell_type": "markdown",
   "metadata": {},
   "source": [
    "Basic reliability problem"
   ]
  },
  {
   "cell_type": "code",
   "execution_count": 2,
   "metadata": {
    "collapsed": false
   },
   "outputs": [
    {
     "data": {
      "image/png": "[encoded data removed]",
      "text/plain": [
       "<matplotlib.figure.Figure at 0x4808908>"
      ]
     },
     "metadata": {},
     "output_type": "display_data"
    }
   ],
   "source": [
    "rv_cap = norm(loc=1.5, scale=0.1) # capacity\n",
    "rv_dem = norm(loc=1.0, scale=0.1) # demand\n",
    "x = np.linspace(rv_dem.ppf(0.001), rv_cap.ppf(0.999), 100)\n",
    "\n",
    "fig, ax = plt.subplots(1, 1)\n",
    "ax.plot(x, rv_cap.pdf(x), label='capacity')\n",
    "ax.plot(x, rv_dem.pdf(x), label='demand')\n",
    "ax.axvline(rv_cap.stats(moments='m'), ls='--')\n",
    "ax.axvline(rv_dem.stats(moments='m'), ls='--')\n",
    "ax.fill_between(x, 0, np.minimum(rv_cap.pdf(x),rv_dem.pdf(x)))\n",
    "plt.legend(loc='upper left')\n",
    "plt.show()"
   ]
  },
  {
   "cell_type": "markdown",
   "metadata": {},
   "source": [
    "Failure probability computation"
   ]
  },
  {
   "cell_type": "code",
   "execution_count": 3,
   "metadata": {
    "collapsed": false
   },
   "outputs": [
    {
     "name": "stdout",
     "output_type": "stream",
     "text": [
      "Value = 2.034760e-04, error = 1.759145e-09\n"
     ]
    }
   ],
   "source": [
    "def f1(x):\n",
    "    \"\"\"Objective function for numerical quadrature.\"\"\"\n",
    "    return rv_dem.pdf(x)*rv_cap.cdf(x)\n",
    "\n",
    "val, err = quad(f1, rv_dem.ppf(0.001), rv_cap.ppf(0.999))\n",
    "print('Value = {:1.6e}, error = {:1.6e}'.format(val, err))"
   ]
  },
  {
   "cell_type": "code",
   "execution_count": 4,
   "metadata": {
    "collapsed": false
   },
   "outputs": [
    {
     "name": "stdout",
     "output_type": "stream",
     "text": [
      "Value = 2.034760e-04, error = 1.759145e-09\n"
     ]
    }
   ],
   "source": [
    "def f2(x):\n",
    "    \"\"\"Objective function for numerical quadrature.\"\"\"\n",
    "    return (1-rv_dem.cdf(x))*rv_cap.pdf(x)\n",
    "\n",
    "val, err = quad(f2, rv_dem.ppf(0.001), rv_cap.ppf(0.999))\n",
    "print('Value = {:1.6e}, error = {:1.6e}'.format(val, err))"
   ]
  },
  {
   "cell_type": "markdown",
   "metadata": {},
   "source": [
    "Safety margin\n",
    "\n",
    "http://www.km.fgg.uni-lj.si/coste24/data/coimbradocuments/coimbra-faber.pdf\n",
    "\n",
    "See pages 47-48."
   ]
  },
  {
   "cell_type": "code",
   "execution_count": 5,
   "metadata": {
    "collapsed": false
   },
   "outputs": [
    {
     "name": "stdout",
     "output_type": "stream",
     "text": [
      "miu = 5.000000e-01, sigma = 1.414214e-01\n",
      "beta = 3.53553\n",
      "Value = 2.034760e-04\n"
     ]
    }
   ],
   "source": [
    "miu = rv_cap.mean()-rv_dem.mean()\n",
    "sigma = np.sqrt(rv_cap.std()**2+rv_dem.std()**2)\n",
    "print('miu = {:1.6e}, sigma = {:1.6e}'.format(miu, sigma))\n",
    "beta = miu/sigma\n",
    "print('beta = {:1.6}'.format(beta))\n",
    "PF = norm.cdf(-beta) # probability of failure\n",
    "print('Value = {:1.6e}'.format(PF))"
   ]
  },
  {
   "cell_type": "markdown",
   "metadata": {
    "collapsed": true
   },
   "source": [
    "Reliability index"
   ]
  }
 ],
 "metadata": {
  "anaconda-cloud": {},
  "kernelspec": {
   "display_name": "Python [default]",
   "language": "python",
   "name": "python3"
  },
  "language_info": {
   "codemirror_mode": {
    "name": "ipython",
    "version": 3
   },
   "file_extension": ".py",
   "mimetype": "text/x-python",
   "name": "python",
   "nbconvert_exporter": "python",
   "pygments_lexer": "ipython3",
   "version": "3.5.2"
  }
 },
 "nbformat": 4,
 "nbformat_minor": 0
}
