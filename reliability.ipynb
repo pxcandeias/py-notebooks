{
 "cells": [
  {
   "cell_type": "markdown",
   "metadata": {},
   "source": [
    "# Structural reliability analysis"
   ]
  },
  {
   "cell_type": "markdown",
   "metadata": {},
   "source": [
    "Notebook inspired by\n",
    "\n",
    "http://www.math.chalmers.se/Stat/Grundutb/CTH/mve300/1112/files/Lecture10/Lecture10.pdf\n",
    "\n",
    "Safety indexes:\n",
    "\n",
    "  Cornell safety index\n",
    "  Hasofer-Lind index\n",
    "\n",
    "Concepts and examples\n",
    "\n",
    "https://www.palisade.com/downloads/pdf/EngineeringReliabilityConcepts.pdf\n",
    "\n",
    "Other reference\n",
    "\n",
    "http://www.eurocodes.fi/1990/paasivu1990/sahkoinen1990/handbook2%5B1%5D.pdf\n",
    "\n",
    "Main references\n",
    "\n",
    "http://www.kstr.lth.se/fileadmin/kstr/pdf_files/STforsk_kurs-10/presentatione_rmm/reliability_analysis10__Kompatibilitetslaege_.pdf\n",
    "\n",
    "http://web.mae.ufl.edu/nkim/eas6939/RBDO_Class.pdf\n",
    "\n",
    "http://civile.utcb.ro/ccba/srracourse.pdf"
   ]
  },
  {
   "cell_type": "code",
   "execution_count": 22,
   "metadata": {
    "collapsed": false
   },
   "outputs": [],
   "source": [
    "import numpy as np\n",
    "from scipy.stats import norm\n",
    "from scipy.integrate import quad\n",
    "import matplotlib.pyplot as plt\n",
    "\n",
    "% matplotlib inline"
   ]
  },
  {
   "cell_type": "markdown",
   "metadata": {},
   "source": [
    "Basic reliability problem"
   ]
  },
  {
   "cell_type": "code",
   "execution_count": 23,
   "metadata": {
    "collapsed": false
   },
   "outputs": [
    {
     "data": {
      "image/png": "[encoded data removed]",
      "text/plain": [
       "<matplotlib.figure.Figure at 0xab5842cc>"
      ]
     },
     "metadata": {},
     "output_type": "display_data"
    }
   ],
   "source": [
    "rv_cap = norm(loc=1.5, scale=0.1)\n",
    "rv_dem = norm(loc=1.0, scale=0.1)\n",
    "x = np.linspace(rv_dem.ppf(0.001), rv_cap.ppf(0.999), 100)\n",
    "\n",
    "fig, ax = plt.subplots(1, 1)\n",
    "ax.plot(x, rv_cap.pdf(x), label='capacity')\n",
    "ax.plot(x, rv_dem.pdf(x), label='demand')\n",
    "ax.axvline(rv_cap.stats(moments='m'), ls='--')\n",
    "ax.axvline(rv_dem.stats(moments='m'), ls='--')\n",
    "ax.fill_between(x, 0, np.minimum(rv_cap.pdf(x),rv_dem.pdf(x)))\n",
    "plt.legend(loc='upper left')\n",
    "plt.show()"
   ]
  },
  {
   "cell_type": "markdown",
   "metadata": {},
   "source": [
    "Failure probability computation"
   ]
  },
  {
   "cell_type": "code",
   "execution_count": 24,
   "metadata": {
    "collapsed": false
   },
   "outputs": [
    {
     "name": "stdout",
     "output_type": "stream",
     "text": [
      "Value = 2.035e-04, error = 1.5132655906684237e-10\n"
     ]
    }
   ],
   "source": [
    "def f1(x):\n",
    "    return rv_dem.pdf(x)*rv_cap.cdf(x)\n",
    "\n",
    "val, err = quad(f1, rv_dem.ppf(0.01), rv_cap.ppf(0.99))\n",
    "print('Value = {:1.3e}, error = {}'.format(val, err))"
   ]
  },
  {
   "cell_type": "code",
   "execution_count": 25,
   "metadata": {
    "collapsed": false
   },
   "outputs": [
    {
     "name": "stdout",
     "output_type": "stream",
     "text": [
      "Value = 2.035e-04, error = 1.5132655128896233e-10\n"
     ]
    }
   ],
   "source": [
    "def f2(x):\n",
    "    return (1-rv_dem.cdf(x))*rv_cap.pdf(x)\n",
    "\n",
    "val, err = quad(f2, rv_dem.ppf(0.01), rv_cap.ppf(0.99))\n",
    "print('Value = {:1.3e}, error = {}'.format(val, err))"
   ]
  },
  {
   "cell_type": "markdown",
   "metadata": {
    "collapsed": true
   },
   "source": [
    "Reliability index"
   ]
  }
 ],
 "metadata": {
  "kernelspec": {
   "display_name": "Python 3",
   "language": "python",
   "name": "python3"
  },
  "language_info": {
   "codemirror_mode": {
    "name": "ipython",
    "version": 3
   },
   "file_extension": ".py",
   "mimetype": "text/x-python",
   "name": "python",
   "nbconvert_exporter": "python",
   "pygments_lexer": "ipython3",
   "version": "3.5.1"
  }
 },
 "nbformat": 4,
 "nbformat_minor": 0
}
