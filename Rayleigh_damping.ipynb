{
 "cells": [
  {
   "cell_type": "markdown",
   "metadata": {},
   "source": [
    "<a id='top'></a>\n",
    "\n",
    "# Rayleigh damping\n",
    "\n",
    "Table of contents:\n",
    "\n",
    "[Introduction](#Introduction)\n",
    "\n",
    "[Computational lab](#Computational-lab)\n",
    "\n",
    "[Odds and ends](#Odds-and-ends)\n",
    "\n",
    "References:\n",
    "\n",
    "\n",
    "## Introduction\n",
    "\n",
    "In structural dynamics, mass and stiffness have direct physical correspondence with the real structure but damping is accounted for in the dynamic equilibrium equations with no support apart from the fact that structures exhibit damped dynamic responses.\n",
    "\n",
    "This python notebook will explore three types of damping normally considered in the computation of dynamic responses:\n",
    "\n",
    "1. Stiffness proportional damping\n",
    "2. Mass proportional damping\n",
    "3. Rayleigh damping\n",
    "\n",
    "## Computational lab"
   ]
  },
  {
   "cell_type": "code",
   "execution_count": null,
   "metadata": {
    "collapsed": true
   },
   "outputs": [],
   "source": [
    "import sys\n",
    "import math\n",
    "import numpy as np\n",
    "import matplotlib as mpl\n",
    "import matplotlib.pyplot as plt\n",
    "%matplotlib inline\n",
    "print('System: {}'.format(sys.version))\n",
    "for package in (np, mpl):\n",
    "    print('Package: {} {}'.format(package.__name__, package.__version__))"
   ]
  },
  {
   "cell_type": "markdown",
   "metadata": {},
   "source": [
    "[Back to top](#top)\n",
    "\n",
    "## Odds and ends\n",
    "\n",
    "This notebook was created by Paulo Xavier Candeias.\n",
    "\n",
    "[Back to top](#top)"
   ]
  },
  {
   "cell_type": "code",
   "execution_count": null,
   "metadata": {
    "collapsed": true
   },
   "outputs": [],
   "source": []
  }
 ],
 "metadata": {
  "kernelspec": {
   "display_name": "Python [default]",
   "language": "python",
   "name": "python3"
  },
  "language_info": {
   "codemirror_mode": {
    "name": "ipython",
    "version": 3
   },
   "file_extension": ".py",
   "mimetype": "text/x-python",
   "name": "python",
   "nbconvert_exporter": "python",
   "pygments_lexer": "ipython3",
   "version": "3.5.2"
  }
 },
 "nbformat": 4,
 "nbformat_minor": 1
}
