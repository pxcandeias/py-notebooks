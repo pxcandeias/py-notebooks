{
 "cells": [
  {
   "cell_type": "markdown",
   "metadata": {},
   "source": [
    "<a id='top'></a>\n",
    "\n",
    "# Complex vibration modes\n",
    "\n",
    "Complex vibration modes arise in experimental research and numerical simulations with non proportional damping. In such cases the eigenproblem is [nonlinear](http://en.wikipedia.org/wiki/Nonlinear_eigenproblem), thus requiring additional work in order to obtain the vibration frequencies and mode shapes of the dynamic system.\n",
    "\n",
    "The solution to the free vibration response of the dynamic equilibrium equation involves some form of linearization of the [quadratic eigenvalue problem](http://en.wikipedia.org/wiki/Quadratic_eigenvalue_problem) it yields. For more information on this subject see for example [this report](http://prod.sandia.gov/techlib/access-control.cgi/2007/072072.pdf).\n",
    "\n",
    "## Table of contents\n",
    "\n",
    "[Preamble](#Preamble)\n",
    "\n",
    "[Dynamic equilibrium equation](#Dynamic-equilibrium-equation)\n",
    "\n",
    "[State space formulation](#State-space-formulation)\n",
    "\n",
    "[Dynamic system setup](#Dynamic-system-setup)\n",
    "\n",
    "[Undamped system](#Undamped-system)\n",
    "\n",
    "[Proportionally damped system](#Proportionally-damped-system)\n",
    "\n",
    "[Non proportionally damped system](#Non-proportionally-damped-system)\n",
    "\n",
    "[Conclusions](#Conclusions)\n",
    "\n",
    "[Odds and ends](#Odds-and-ends)\n",
    "\n",
    "## Preamble\n",
    "\n",
    "We will start by setting up the computational environment for this notebook. Furthermore, we will need numpy and scipy for the numerical simulations and matplotlib for the plots:"
   ]
  },
  {
   "cell_type": "code",
   "execution_count": 1,
   "metadata": {
    "collapsed": false
   },
   "outputs": [
    {
     "name": "stdout",
     "output_type": "stream",
     "text": [
      "System: 3.5.1 |Anaconda 2.5.0 (32-bit)| (default, Dec  7 2015, 11:17:45) \n",
      "[GCC 4.4.7 20120313 (Red Hat 4.4.7-1)]\n",
      "numpy version: 1.10.4\n",
      "scipy version: 0.17.0\n",
      "matplotlib version: 1.5.1\n"
     ]
    }
   ],
   "source": [
    "import sys\n",
    "import numpy as np\n",
    "import scipy as sp\n",
    "import matplotlib as mpl\n",
    "\n",
    "print('System: {}'.format(sys.version))\n",
    "print('numpy version: {}'.format(np.__version__))\n",
    "print('scipy version: {}'.format(sp.__version__))\n",
    "print('matplotlib version: {}'.format(mpl.__version__))"
   ]
  },
  {
   "cell_type": "markdown",
   "metadata": {},
   "source": [
    "We will also need a couple of specific modules and a litle \"IPython magic\" to show the plots:"
   ]
  },
  {
   "cell_type": "code",
   "execution_count": 2,
   "metadata": {
    "collapsed": true
   },
   "outputs": [],
   "source": [
    "from numpy import linalg as LA\n",
    "import matplotlib.pyplot as plt\n",
    "\n",
    "%matplotlib inline"
   ]
  },
  {
   "cell_type": "markdown",
   "metadata": {},
   "source": [
    "[Back to top](#top)\n",
    "\n",
    "## Dynamic equilibrium equation\n",
    "\n",
    "In structural dynamics the second order differential dynamic equilibrium equation can be written in terms of generalized coordinates (d[isplacement]) and their first (v[elocity]) and second (a[cceleration]) time derivatives:\n",
    "\n",
    "\\begin{equation}\n",
    "\\mathbf{M} \\times \\mathbf{a(t)} + \\mathbf{C} \\times \\mathbf{v(t)} + \\mathbf{K} \\times \\mathbf{d(t)} = \\mathbf{F(t)}\n",
    "\\end{equation}\n",
    "\n",
    "where:\n",
    "\n",
    "> $\\mathbf{M}$ is the mass matrix  \n",
    "> $\\mathbf{C}$ is the damping matrix  \n",
    "> $\\mathbf{K}$ is the stiffness matrix  \n",
    "> $\\mathbf{a(t)}$ is the acceleration vector  \n",
    "> $\\mathbf{v(t)}$ is the velocity vector  \n",
    "> $\\mathbf{d(t)}$ is the displacement vector  \n",
    "> $\\mathbf{F(t)}$ is the force input vector  \n",
    "\n",
    "Considering a dynamic system with $NDOF$ is the number of generalized degrees of freedom, the vectors will have dimensions of $NDOF \\times 1$ and the matrices $NDOF \\times NDOF$.\n",
    "\n",
    "When the system is undamped, the damping matrix will be null. In this case the eigenproblem is linear:\n",
    "\n",
    "\\begin{equation}\n",
    "\\left[ -\\mathbf{M} \\times \\mathbf{\\omega^2} + \\mathbf{K} \\right] \\times \\mathbf{v} = \\mathbf{0}\n",
    "\\end{equation}\n",
    "\n",
    "In a proportionally damped system, the damping matrix is proportional to the mass and stiffness matrices:\n",
    "\n",
    "\\begin{equation}\n",
    "\\mathbf{C} = \\alpha \\times \\mathbf{M} + \\beta \\times \\mathbf{K}\n",
    "\\end{equation}\n",
    "\n",
    "where $\\alpha$ and $\\beta$ are mass and stiffness proportionality coefficients. These are typically very small positive numbers. The resulting eigenproblem is still linear because the damping matrix can be decomposed by the modal vectors.\n",
    "\n",
    "In a system with non proportional damping, the damping matrix will not be proportional neither to the mass nor to the stiffness matrices."
   ]
  },
  {
   "cell_type": "markdown",
   "metadata": {},
   "source": [
    "[Back to top](#top)\n",
    "\n",
    "## Dynamic system setup\n",
    "\n",
    "In this example we will use the folowing mass and stiffness matrices:"
   ]
  },
  {
   "cell_type": "code",
   "execution_count": 3,
   "metadata": {
    "collapsed": false
   },
   "outputs": [
    {
     "name": "stdout",
     "output_type": "stream",
     "text": [
      "[[ 1.  0.]\n",
      " [ 0.  2.]]\n"
     ]
    }
   ],
   "source": [
    "MM = np.matrix(np.diag([1., 2.]))\n",
    "print(MM)"
   ]
  },
  {
   "cell_type": "code",
   "execution_count": 4,
   "metadata": {
    "collapsed": false
   },
   "outputs": [
    {
     "name": "stdout",
     "output_type": "stream",
     "text": [
      "[[ 20. -10.]\n",
      " [-10.  10.]]\n"
     ]
    }
   ],
   "source": [
    "KK = np.matrix([[20., -10.], [-10., 10.]])\n",
    "print(KK)"
   ]
  },
  {
   "cell_type": "markdown",
   "metadata": {},
   "source": [
    "We will also setup two damping matrices, one proportional to the mass and stiffness matrices (C1) and the other non proportional (C2):"
   ]
  },
  {
   "cell_type": "code",
   "execution_count": 5,
   "metadata": {
    "collapsed": false
   },
   "outputs": [
    {
     "name": "stdout",
     "output_type": "stream",
     "text": [
      "[[ 0.9 -0.4]\n",
      " [-0.4  0.6]]\n"
     ]
    }
   ],
   "source": [
    "C1 = 0.1*MM+0.04*KK\n",
    "print(C1)"
   ]
  },
  {
   "cell_type": "code",
   "execution_count": 6,
   "metadata": {
    "collapsed": false
   },
   "outputs": [
    {
     "name": "stdout",
     "output_type": "stream",
     "text": [
      "[[ 0.1  0.2]\n",
      " [ 0.2  0.2]]\n"
     ]
    }
   ],
   "source": [
    "C2 = np.matrix([[0.1, 0.2], [0.2, 0.2]])\n",
    "print(C2)"
   ]
  },
  {
   "cell_type": "markdown",
   "metadata": {},
   "source": [
    "[Back to top](#top)\n",
    "\n",
    "## Undamped system\n",
    "\n",
    "In the undamped system the damping matrix is all zeros and therefore the eigenproblem is a linear one as it involves only the mass and stiffness matrices:"
   ]
  },
  {
   "cell_type": "code",
   "execution_count": 7,
   "metadata": {
    "collapsed": false
   },
   "outputs": [
    {
     "name": "stdout",
     "output_type": "stream",
     "text": [
      "[  2.1922  22.8078]\n",
      "[[ 0.4896  0.9628]\n",
      " [ 0.8719 -0.2703]]\n"
     ]
    }
   ],
   "source": [
    "W2, F1 = LA.eig(LA.solve(MM,KK)) # eigenanalysis\n",
    "ix = np.argsort(np.absolute(W2)) # sort eigenvalues in ascending order\n",
    "W2 = W2[ix] # sorted eigenvalues\n",
    "F1 = F1[:,ix] # sorted eigenvectors\n",
    "print(np.round_(W2, 4))\n",
    "print(np.round_(F1, 4))"
   ]
  },
  {
   "cell_type": "markdown",
   "metadata": {},
   "source": [
    "The angular frequencies are computed as the square root of the eigenvalues:"
   ]
  },
  {
   "cell_type": "code",
   "execution_count": 8,
   "metadata": {
    "collapsed": false
   },
   "outputs": [
    {
     "name": "stdout",
     "output_type": "stream",
     "text": [
      "[ 1.48062012  4.77574749]\n"
     ]
    }
   ],
   "source": [
    "print(np.sqrt(W2))"
   ]
  },
  {
   "cell_type": "markdown",
   "metadata": {},
   "source": [
    "The modal vectors, the columns of the modal matrix, have unit norm:"
   ]
  },
  {
   "cell_type": "code",
   "execution_count": 9,
   "metadata": {
    "collapsed": false
   },
   "outputs": [
    {
     "name": "stdout",
     "output_type": "stream",
     "text": [
      "[ 1.  1.]\n"
     ]
    }
   ],
   "source": [
    "print(LA.norm(F1, axis=0))"
   ]
  },
  {
   "cell_type": "markdown",
   "metadata": {},
   "source": [
    "Contrary to what is normaly done, we will visualize the modal vectors in a polar plot of the corresponding amplitudes and angles of equivalent complex values:"
   ]
  },
  {
   "cell_type": "code",
   "execution_count": 10,
   "metadata": {
    "collapsed": false
   },
   "outputs": [
    {
     "data": {
      "image/png": "[encoded data removed]",
      "text/plain": [
       "<matplotlib.figure.Figure at 0xad2aceec>"
      ]
     },
     "metadata": {},
     "output_type": "display_data"
    }
   ],
   "source": [
    "fig, ax = plt.subplots(1, 2, subplot_kw=dict(polar=True))\n",
    "for mode in range(2):\n",
    "    ax[mode].set_title('Mode #{}'.format(mode+1))\n",
    "    for dof in range(2):\n",
    "        r = np.array([0, np.absolute(F1[dof,mode])])\n",
    "        t = np.array([0, np.angle(F1[dof,mode])])\n",
    "        ax[mode].plot(t, r, 'o-', label='DOF #{}'.format(dof+1))\n",
    "plt.legend(loc='lower left', bbox_to_anchor=(1., 0.))\n",
    "plt.show()"
   ]
  },
  {
   "cell_type": "markdown",
   "metadata": {},
   "source": [
    "[Back to top](#top)\n",
    "\n",
    "## Proportionally damped system\n",
    "\n"
   ]
  },
  {
   "cell_type": "markdown",
   "metadata": {},
   "source": [
    "This damping matrix is orthogonal because the mass and stiffness matrices are also orthogonal:"
   ]
  },
  {
   "cell_type": "code",
   "execution_count": 11,
   "metadata": {
    "collapsed": false
   },
   "outputs": [
    {
     "name": "stdout",
     "output_type": "stream",
     "text": [
      "[[ 0.3304  0.    ]\n",
      " [ 0.      1.0863]]\n"
     ]
    }
   ],
   "source": [
    "print(np.round_(F1.T*C1*F1, 4))"
   ]
  },
  {
   "cell_type": "markdown",
   "metadata": {},
   "source": [
    "The system and input matrices are the following:"
   ]
  },
  {
   "cell_type": "code",
   "execution_count": 12,
   "metadata": {
    "collapsed": false
   },
   "outputs": [
    {
     "name": "stdout",
     "output_type": "stream",
     "text": [
      "[[ 0.   0.   1.   0. ]\n",
      " [ 0.   0.   0.   2. ]\n",
      " [ 1.   0.   0.9 -0.4]\n",
      " [ 0.   2.  -0.4  0.6]]\n"
     ]
    }
   ],
   "source": [
    "A = np.bmat([[np.zeros_like(MM), MM], [MM, C1]])\n",
    "print(A)"
   ]
  },
  {
   "cell_type": "code",
   "execution_count": 13,
   "metadata": {
    "collapsed": false
   },
   "outputs": [
    {
     "name": "stdout",
     "output_type": "stream",
     "text": [
      "[[  1.   0.   0.   0.]\n",
      " [  0.   2.   0.   0.]\n",
      " [  0.   0. -20.  10.]\n",
      " [  0.   0.  10. -10.]]\n"
     ]
    }
   ],
   "source": [
    "B = np.bmat([[MM, np.zeros_like(MM)], [np.zeros_like(MM), -KK]])\n",
    "print(B)"
   ]
  },
  {
   "cell_type": "markdown",
   "metadata": {},
   "source": [
    "The eigenanalysis yields the eigenvalues and eigenvectors:"
   ]
  },
  {
   "cell_type": "code",
   "execution_count": 14,
   "metadata": {
    "collapsed": false
   },
   "outputs": [
    {
     "name": "stdout",
     "output_type": "stream",
     "text": [
      "[-0.0938+1.4776j -0.0938-1.4776j -0.5062+4.7488j -0.5062-4.7488j]\n",
      "[[ 0.4058+0.j      0.4058-0.j      0.9423+0.j      0.9423-0.j    ]\n",
      " [ 0.7226+0.j      0.7226-0.j     -0.2646-0.j     -0.2646+0.j    ]\n",
      " [-0.0174-0.2735j -0.0174+0.2735j -0.0209-0.1962j -0.0209+0.1962j]\n",
      " [-0.0309-0.487j  -0.0309+0.487j   0.0059+0.0551j  0.0059-0.0551j]]\n"
     ]
    }
   ],
   "source": [
    "w1, v1 = LA.eig(LA.solve(A,B))\n",
    "ix = np.argsort(np.absolute(w1))\n",
    "w1 = w1[ix]\n",
    "v1 = v1[:,ix]\n",
    "print(np.round_(w1, 4))\n",
    "print(np.round_(v1, 4))"
   ]
  },
  {
   "cell_type": "markdown",
   "metadata": {},
   "source": [
    "As we can see, the eigenvalues come in complex conjugate pairs. Let us take only the ones in the [upper half-plane](http://en.wikipedia.org/wiki/Upper_half-plane):"
   ]
  },
  {
   "cell_type": "code",
   "execution_count": 15,
   "metadata": {
    "collapsed": false
   },
   "outputs": [
    {
     "name": "stdout",
     "output_type": "stream",
     "text": [
      "[-0.0938+1.4776j -0.5062+4.7488j]\n"
     ]
    }
   ],
   "source": [
    "print(np.round_(w1[::2], 4))"
   ]
  },
  {
   "cell_type": "markdown",
   "metadata": {},
   "source": [
    "These complex eigenvalues can be decomposed into angular frequency and damping coefficient:"
   ]
  },
  {
   "cell_type": "code",
   "execution_count": 16,
   "metadata": {
    "collapsed": false
   },
   "outputs": [
    {
     "name": "stdout",
     "output_type": "stream",
     "text": [
      "Angular frequency: [ 1.48062012  4.77574749]\n",
      "Damping coefficient: [ 0.06338204  0.10598452]\n"
     ]
    }
   ],
   "source": [
    "zw = -w1.real # damping coefficient time angular frequency\n",
    "wD = w1.imag # damped angular frequency\n",
    "zn = 1./np.sqrt(1.+(wD/-zw)**2) # the minus sign is formally correct!\n",
    "wn = zw/zn # undamped angular frequency\n",
    "print('Angular frequency: {}'.format(wn[[0,2]]))\n",
    "print('Damping coefficient: {}'.format(zn[[0,2]]))"
   ]
  },
  {
   "cell_type": "markdown",
   "metadata": {},
   "source": [
    "The columns of the modal matrix, the modal vectors, also come in conjugate pairs, each vector having unit norm:"
   ]
  },
  {
   "cell_type": "code",
   "execution_count": 17,
   "metadata": {
    "collapsed": false
   },
   "outputs": [
    {
     "name": "stdout",
     "output_type": "stream",
     "text": [
      "[ 1.  1.]\n"
     ]
    }
   ],
   "source": [
    "print(LA.norm(v1[:,::2], axis=0))"
   ]
  },
  {
   "cell_type": "markdown",
   "metadata": {},
   "source": [
    "Moreover, the modal matrix is composed of four blocks, each with $NDOF \\times NDOF$ dimension. Some column reordering is necessary in order to match both modal matrices:"
   ]
  },
  {
   "cell_type": "code",
   "execution_count": 18,
   "metadata": {
    "collapsed": false
   },
   "outputs": [
    {
     "name": "stdout",
     "output_type": "stream",
     "text": [
      "[[ 0.4058+0.j      0.4058-0.j      0.9423+0.j      0.9423-0.j    ]\n",
      " [ 0.7226+0.j      0.7226-0.j     -0.2646-0.j     -0.2646+0.j    ]\n",
      " [-0.0381+0.5996j -0.0381-0.5996j -0.4770+4.475j  -0.4770-4.475j ]\n",
      " [-0.0678+1.0677j -0.0678-1.0677j  0.1339-1.2565j  0.1339+1.2565j]]\n"
     ]
    }
   ],
   "source": [
    "AA = v1[:2,[0,2]]\n",
    "AB = AA.conjugate()\n",
    "BA = np.multiply(AA,w1[[0,2]])\n",
    "BB = BA.conjugate()\n",
    "v1_new = np.bmat([[AA, AB], [BA, BB]])\n",
    "print(np.round_(v1_new[:,[0,2,1,3]], 4))"
   ]
  },
  {
   "cell_type": "markdown",
   "metadata": {},
   "source": [
    "We will visualize again the complex valued modal vectors with a polar plot of the corresponding amplitudes and angles:"
   ]
  },
  {
   "cell_type": "code",
   "execution_count": 19,
   "metadata": {
    "collapsed": false
   },
   "outputs": [
    {
     "data": {
      "image/png": "[encoded data removed]",
      "text/plain": [
       "<matplotlib.figure.Figure at 0xad2acacc>"
      ]
     },
     "metadata": {},
     "output_type": "display_data"
    }
   ],
   "source": [
    "fig, ax = plt.subplots(1, 2, subplot_kw=dict(polar=True))\n",
    "for mode in range(2):\n",
    "    ax[mode].set_title('Mode #{}'.format(mode+1))\n",
    "    for dof in range(2):\n",
    "        r = np.array([0, np.absolute(v1[dof,2*mode])])\n",
    "        t = np.array([0, np.angle(v1[dof,2*mode])])\n",
    "        ax[mode].plot(t, r, 'o-', label='DOF #{}'.format(dof+1))\n",
    "plt.legend(loc='lower left', bbox_to_anchor=(1., 0.))\n",
    "plt.show()"
   ]
  },
  {
   "cell_type": "markdown",
   "metadata": {},
   "source": [
    "[Back to top](#top)\n",
    "\n",
    "## Non proportionally damped system\n",
    "\n",
    "In non proportionally damped systems the damping matrix is not proportional neither to the mass matrix nor the stiffness matrix."
   ]
  },
  {
   "cell_type": "markdown",
   "metadata": {},
   "source": [
    "Non proportinal damping carries the fact that the damping matrix is not orthogonal anymore:"
   ]
  },
  {
   "cell_type": "code",
   "execution_count": 20,
   "metadata": {
    "collapsed": false
   },
   "outputs": [
    {
     "name": "stdout",
     "output_type": "stream",
     "text": [
      "[[ 0.3468  0.1414]\n",
      " [ 0.1414  0.0032]]\n"
     ]
    }
   ],
   "source": [
    "print(np.round_(F1.T*C2*F1, 4))"
   ]
  },
  {
   "cell_type": "markdown",
   "metadata": {},
   "source": [
    "The system and input matrices are the following:"
   ]
  },
  {
   "cell_type": "code",
   "execution_count": 21,
   "metadata": {
    "collapsed": false,
    "scrolled": true
   },
   "outputs": [
    {
     "name": "stdout",
     "output_type": "stream",
     "text": [
      "[[ 0.   0.   1.   0. ]\n",
      " [ 0.   0.   0.   2. ]\n",
      " [ 1.   0.   0.1  0.2]\n",
      " [ 0.   2.   0.2  0.2]]\n"
     ]
    }
   ],
   "source": [
    "A = np.bmat([[np.zeros_like(MM), MM], [MM, C2]])\n",
    "print(A)"
   ]
  },
  {
   "cell_type": "code",
   "execution_count": 22,
   "metadata": {
    "collapsed": false
   },
   "outputs": [
    {
     "name": "stdout",
     "output_type": "stream",
     "text": [
      "[[  1.   0.   0.   0.]\n",
      " [  0.   2.   0.   0.]\n",
      " [  0.   0. -20.  10.]\n",
      " [  0.   0.  10. -10.]]\n"
     ]
    }
   ],
   "source": [
    "B = np.bmat([[MM, np.zeros_like(MM)], [np.zeros_like(MM), -KK]])\n",
    "print(B)"
   ]
  },
  {
   "cell_type": "markdown",
   "metadata": {},
   "source": [
    "The eigenanalysis yields the eigenvalues and eigenvectors of the system matrix:"
   ]
  },
  {
   "cell_type": "code",
   "execution_count": 23,
   "metadata": {
    "collapsed": false
   },
   "outputs": [
    {
     "name": "stdout",
     "output_type": "stream",
     "text": [
      "[-0.0986+1.4777j -0.0986-1.4777j -0.0014+4.7745j -0.0014-4.7745j]\n",
      "[[  4.06300000e-01-0.0087j   4.06300000e-01+0.0087j  -9.42000000e-01+0.j\n",
      "   -9.42000000e-01-0.j    ]\n",
      " [  7.22300000e-01+0.j       7.22300000e-01-0.j       2.65100000e-01-0.0184j\n",
      "    2.65100000e-01+0.0184j]\n",
      " [ -2.41000000e-02-0.2733j  -2.41000000e-02+0.2733j\n",
      "    1.00000000e-04+0.1973j   1.00000000e-04-0.1973j]\n",
      " [ -3.25000000e-02-0.4866j  -3.25000000e-02+0.4866j\n",
      "   -3.90000000e-03-0.0555j  -3.90000000e-03+0.0555j]]\n"
     ]
    }
   ],
   "source": [
    "w2, v2 = LA.eig(LA.solve(A,B))\n",
    "ix = np.argsort(np.absolute(w2))\n",
    "w2 = w2[ix]\n",
    "v2 = v2[:,ix]\n",
    "print(np.round_(w2, 4))\n",
    "print(np.round_(v2, 4))"
   ]
  },
  {
   "cell_type": "markdown",
   "metadata": {},
   "source": [
    "As we can see, the eigenvalues come in complex conjugate pairs. Again, let us take only the ones in the [upper half-plane](http://en.wikipedia.org/wiki/Upper_half-plane):"
   ]
  },
  {
   "cell_type": "code",
   "execution_count": 24,
   "metadata": {
    "collapsed": false
   },
   "outputs": [
    {
     "name": "stdout",
     "output_type": "stream",
     "text": [
      "[-0.0986+1.4777j -0.0014+4.7745j]\n"
     ]
    }
   ],
   "source": [
    "print(np.round_(w2[[0,2]], 4))"
   ]
  },
  {
   "cell_type": "markdown",
   "metadata": {},
   "source": [
    "These complex eigenvalues can be decomposed into angular frequency and damping coefficient much like in the propotional damping case:"
   ]
  },
  {
   "cell_type": "code",
   "execution_count": 25,
   "metadata": {
    "collapsed": false
   },
   "outputs": [
    {
     "name": "stdout",
     "output_type": "stream",
     "text": [
      "Angular frequency: [ 1.48099973  4.77452335]\n",
      "Damping coefficient: [ 0.06655163  0.00030098]\n"
     ]
    }
   ],
   "source": [
    "zw = -w2.real # damping coefficient times angular frequency\n",
    "wD = w2.imag # damped angular frequency\n",
    "zn = 1./np.sqrt(1.+(wD/-zw)**2) # the minus sign is formally correct!\n",
    "wn = zw/zn # undamped angular frequency\n",
    "print('Angular frequency: {}'.format(wn[[0,2]]))\n",
    "print('Damping coefficient: {}'.format(zn[[0,2]]))"
   ]
  },
  {
   "cell_type": "markdown",
   "metadata": {},
   "source": [
    "Again, the columns of the modal matrix, the modal vectors, come in conjugate pairs, and each vector has unit norm:"
   ]
  },
  {
   "cell_type": "code",
   "execution_count": 26,
   "metadata": {
    "collapsed": false
   },
   "outputs": [
    {
     "name": "stdout",
     "output_type": "stream",
     "text": [
      "[ 1.  1.]\n"
     ]
    }
   ],
   "source": [
    "print(LA.norm(v2[:,[0,2]], axis=0))"
   ]
  },
  {
   "cell_type": "markdown",
   "metadata": {},
   "source": [
    "Moreover, the modal matrix is composed of four blocks, each with $NDOF \\times NDOF$ dimension. Some column reordering is necessary in order to match both modal matrices:"
   ]
  },
  {
   "cell_type": "code",
   "execution_count": 27,
   "metadata": {
    "collapsed": false
   },
   "outputs": [
    {
     "name": "stdout",
     "output_type": "stream",
     "text": [
      "[[ 0.4063-0.0087j  0.4063+0.0087j -0.9420+0.j     -0.9420-0.j    ]\n",
      " [ 0.7223+0.j      0.7223-0.j      0.2651-0.0184j  0.2651+0.0184j]\n",
      " [-0.0272+0.6012j -0.0272-0.6012j  0.0014-4.4975j  0.0014+4.4975j]\n",
      " [-0.0712+1.0673j -0.0712-1.0673j  0.0873+1.266j   0.0873-1.266j ]]\n"
     ]
    }
   ],
   "source": [
    "AA = v2[:2,[0,2]]\n",
    "AB = AA.conjugate()\n",
    "BA = np.multiply(AA,w2[[0,2]])\n",
    "BB = BA.conjugate()\n",
    "v2_new = np.bmat([[AA, AB], [BA, BB]])\n",
    "print(np.round_(v2_new[:,[0,2,1,3]], 4))"
   ]
  },
  {
   "cell_type": "markdown",
   "metadata": {},
   "source": [
    "Once more we will visualize the complex valued modal vectors through a polar plot of the corresponding amplitudes and angles:"
   ]
  },
  {
   "cell_type": "code",
   "execution_count": 28,
   "metadata": {
    "collapsed": false
   },
   "outputs": [
    {
     "data": {
      "image/png": "[encoded data removed]",
      "text/plain": [
       "<matplotlib.figure.Figure at 0xaf85a98c>"
      ]
     },
     "metadata": {},
     "output_type": "display_data"
    }
   ],
   "source": [
    "fig, ax = plt.subplots(1, 2, subplot_kw=dict(polar=True))\n",
    "for mode in range(2):\n",
    "    ax[mode].set_title('Mode #{}'.format(mode+1))\n",
    "    for dof in range(2):\n",
    "        r = np.array([0, np.absolute(v2[dof,2*mode])])\n",
    "        t = np.array([0, np.angle(v2[dof,2*mode])])\n",
    "        ax[mode].plot(t, r, 'o-', label='DOF #{}'.format(dof+1))\n",
    "plt.legend(loc='lower left', bbox_to_anchor=(1., 0.))\n",
    "plt.show()"
   ]
  },
  {
   "cell_type": "markdown",
   "metadata": {},
   "source": [
    "[Back to top](#top)\n",
    "\n",
    "## Conclusions\n",
    "\n",
    "Several conclusion can be drawn from this very simple example. First of all, damping changes the vibration frequencies and mode shapes. Furthermore, the polar plots show clearly that:\n",
    "\n",
    "1. In the undamped system the vibration modes are fully \"orthogonal\";\n",
    "2. In the proportionally damped system the vibration modes are no longer \"orthogonal\";\n",
    "3. In the non proportionally damped system each DOF has a different phase angle.\n",
    "\n",
    "[Back to top](#top)\n",
    "\n",
    "## Odds and ends\n",
    "\n",
    "This notebook was created by Paulo Xavier Candeias.\n",
    "\n",
    "[Back to top](#top)"
   ]
  },
  {
   "cell_type": "code",
   "execution_count": null,
   "metadata": {
    "collapsed": true
   },
   "outputs": [],
   "source": []
  }
 ],
 "metadata": {
  "kernelspec": {
   "display_name": "Python 3",
   "language": "python",
   "name": "python3"
  },
  "language_info": {
   "codemirror_mode": {
    "name": "ipython",
    "version": 3
   },
   "file_extension": ".py",
   "mimetype": "text/x-python",
   "name": "python",
   "nbconvert_exporter": "python",
   "pygments_lexer": "ipython3",
   "version": "3.5.1"
  }
 },
 "nbformat": 4,
 "nbformat_minor": 0
}
