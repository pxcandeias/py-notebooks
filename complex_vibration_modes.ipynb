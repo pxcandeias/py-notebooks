{
 "cells": [
  {
   "cell_type": "markdown",
   "metadata": {},
   "source": [
    "<a id='top'></a>\n",
    "\n",
    "# Complex vibration modes\n",
    "\n",
    "Complex vibration modes arise in experimental research and numerical simulations when non proportional damping is considered in a state space formulation of the second order differential dynamic equilibrium equation.\n",
    "\n",
    "This notebook is inspired in one of [Pete Avitabile's Modal Space articles](http://macl.caeds.eng.uml.edu/umlspace/mspace.html), namely the one discussing the difference between [complex modes and real normal modes](http://sem.org/ArtDownLoad/msmj02.pdf).\n",
    "\n",
    "## Table of contents\n",
    "\n",
    "[Preamble](#Preamble)\n",
    "\n",
    "[Dynamic equilibrium equation](#Dynamic-equilibrium-equation)\n",
    "\n",
    "[State space formulation](#State-space-formulation)\n",
    "\n",
    "[Undampanded system](#Undamped-system)\n",
    "\n",
    "[Proportionally dampanded system](#Proportionally-damped-system)\n",
    "\n",
    "[Non proportionally dampanded system](#Non-proportionally-damped-system)\n",
    "\n",
    "[Odds and ends](#Odds-and-ends)\n",
    "\n",
    "## Preamble\n",
    "\n",
    "Let us start by setting up the environment for this notebook. Since this notebook was created with Python 2.7, we will start by importing a few things from the \"future\". Furthermore, we will need numpy and scipy for the numerical simulations as well as matplotlib for the plots:"
   ]
  },
  {
   "cell_type": "code",
   "execution_count": 1,
   "metadata": {
    "collapsed": false
   },
   "outputs": [
    {
     "name": "stdout",
     "output_type": "stream",
     "text": [
      "System: 2.7.9 |Anaconda 2.1.0 (32-bit)| (default, Mar  9 2015, 16:21:41) \n",
      "[GCC 4.4.7 20120313 (Red Hat 4.4.7-1)]\n",
      "numpy version: 1.9.2\n",
      "scipy version: 0.15.1\n",
      "matplotlib version: 1.4.3\n"
     ]
    }
   ],
   "source": [
    "from __future__ import division, print_function\n",
    "\n",
    "import sys\n",
    "import numpy as np\n",
    "import scipy as sp\n",
    "import matplotlib as mpl\n",
    "\n",
    "print('System: {}'.format(sys.version))\n",
    "print('numpy version: {}'.format(np.__version__))\n",
    "print('scipy version: {}'.format(sp.__version__))\n",
    "print('matplotlib version: {}'.format(mpl.__version__))\n",
    "\n",
    "from numpy import linalg as LA\n",
    "import matplotlib.pyplot as plt"
   ]
  },
  {
   "cell_type": "markdown",
   "metadata": {},
   "source": [
    "[Back to top](#top)\n",
    "\n",
    "## Dynamic equilibrium equation\n",
    "\n",
    "In structural dynamics the second order differential dynamic equilibrium equation can be written in terms of generalized coordinates (u):\n",
    "\n",
    "\\begin{equation*}\n",
    "\\mathbf{M} \\times \\mathbf{\\ddot{u}(t)} + \\mathbf{C} \\times \\mathbf{\\dot{u}(t)} + \\mathbf{K} \\times \\mathbf{u(t)} = \\mathbf{F(t)}\n",
    "\\end{equation*}\n",
    "\n",
    "[MathJax reference](http://nbviewer.ipython.org/github/adrn/ipython/blob/2.x/examples/Notebook/Typesetting%20Math%20Using%20MathJax.ipynb)\n",
    "\n",
    "where:\n",
    "\n",
    "  M is the mass matrix\n",
    "  C is the damping matrix\n",
    "  K is the stiffness matrix"
   ]
  },
  {
   "cell_type": "code",
   "execution_count": 2,
   "metadata": {
    "collapsed": false
   },
   "outputs": [
    {
     "name": "stdout",
     "output_type": "stream",
     "text": [
      "[[2 0]\n",
      " [0 3]]\n",
      "[[ 2 -1]\n",
      " [-1  1]]\n"
     ]
    }
   ],
   "source": [
    "MM = np.matrix(np.diag([2,3]))\n",
    "KK = np.matrix([[2, -1],[-1, 1]])\n",
    "\n",
    "print(MM)\n",
    "print(KK)"
   ]
  },
  {
   "cell_type": "markdown",
   "metadata": {},
   "source": [
    "[Back to top](#top)\n",
    "\n",
    "## State space formulation\n",
    "\n",
    "In a state space formulation the second order differential dynamic equilibrium equation is turned into a system of first order differential dynamic equilibrium equations:\n",
    "\n",
    "\\begin{equation*}\n",
    "\\begin{matrix}\n",
    "\\mathbf{\\dot{u}(t)} = \\mathbf{A} \\cdot \\mathbf{u(t)} + \\mathbf{B(t)} \\\\\n",
    "\\mathbf{y(t)} = \\mathbf{C} \\cdot \\mathbf{u(t)} + \\mathbf{D(t)}\n",
    "\\end{matrix}\n",
    "\\end{equation*}\n",
    "\n",
    "The system matrix (A) is built using the M, C and K matrices:\n",
    "\n",
    "\\begin{equation*}\n",
    "\\mathbf{A} = \\left[ \\begin{matrix}\n",
    "\\mathbf{0} & \\mathbf{I} \\\\\n",
    "-\\mathbf{MM}^I \\cdot \\mathbf{K} & -\\mathbf{MM}^I \\cdot \\mathbf{C}\n",
    "\\end{matrix} \\right]\n",
    "\\end{equation*}"
   ]
  },
  {
   "cell_type": "markdown",
   "metadata": {},
   "source": [
    "[Back to top](#top)\n",
    "\n",
    "##Undamped system\n",
    "\n",
    "In the undamped system, the damping matriz is all zeros:"
   ]
  },
  {
   "cell_type": "code",
   "execution_count": 3,
   "metadata": {
    "collapsed": false
   },
   "outputs": [
    {
     "name": "stdout",
     "output_type": "stream",
     "text": [
      "[[ 0.          0.          1.          0.        ]\n",
      " [ 0.          0.          0.          1.        ]\n",
      " [-1.          0.5        -0.         -0.        ]\n",
      " [ 0.33333333 -0.33333333 -0.         -0.        ]]\n"
     ]
    }
   ],
   "source": [
    "C0 = np.matrix(np.zeros_like(MM))\n",
    "A = np.bmat([[np.zeros_like(MM), np.identity(MM.shape[0])], [LA.solve(-MM,KK), LA.solve(-MM,C0)]])\n",
    "\n",
    "print(A)"
   ]
  },
  {
   "cell_type": "code",
   "execution_count": 4,
   "metadata": {
    "collapsed": false
   },
   "outputs": [
    {
     "name": "stdout",
     "output_type": "stream",
     "text": [
      "[-0.+1.0926j -0.-1.0926j  0.+0.3737j  0.-0.3737j]\n",
      "[[-0.0000-0.6296j -0.0000+0.6296j  0.4707+0.j      0.4707-0.j    ]\n",
      " [ 0.0000+0.2439j  0.0000-0.2439j  0.8099+0.j      0.8099-0.j    ]\n",
      " [ 0.6878+0.j      0.6878-0.j      0.0000+0.1759j  0.0000-0.1759j]\n",
      " [-0.2665+0.j     -0.2665-0.j     -0.0000+0.3026j -0.0000-0.3026j]]\n"
     ]
    }
   ],
   "source": [
    "w, v = LA.eig(A)\n",
    "\n",
    "print(np.round_(w,4))\n",
    "print(np.round_(v,4))"
   ]
  },
  {
   "cell_type": "markdown",
   "metadata": {},
   "source": [
    "[Back to top](#top)\n",
    "\n",
    "##Proportionally damped system\n",
    "\n",
    "In a proportionally damped system, the damping matrix is proportional to the mass and stiffness matrices:\n",
    "\n",
    "\\begin{equation*}\n",
    "\\mathbf{C} = \\alpha \\times \\mathbf{M} + \\beta \\times \\mathbf{K}\n",
    "\\end{equation*}\n",
    "\n",
    "Here we will assume that $\\alpha$ to be 0.1 and $\\beta$ to be 0.1:"
   ]
  },
  {
   "cell_type": "code",
   "execution_count": 5,
   "metadata": {
    "collapsed": false
   },
   "outputs": [
    {
     "name": "stdout",
     "output_type": "stream",
     "text": [
      "[[ 0.          0.          1.          0.        ]\n",
      " [ 0.          0.          0.          1.        ]\n",
      " [-1.          0.5        -0.2         0.05      ]\n",
      " [ 0.33333333 -0.33333333  0.03333333 -0.13333333]]\n"
     ]
    }
   ],
   "source": [
    "C1 = 0.1*MM+0.1*KK\n",
    "A = np.bmat([[np.zeros_like(MM), np.identity(MM.shape[0])], [LA.solve(-MM,KK), LA.solve(-MM,C1)]])\n",
    "\n",
    "print(A)"
   ]
  },
  {
   "cell_type": "code",
   "execution_count": 6,
   "metadata": {
    "collapsed": false
   },
   "outputs": [
    {
     "name": "stdout",
     "output_type": "stream",
     "text": [
      "[-0.1097+1.0871j -0.1097-1.0871j -0.0570+0.3693j -0.0570-0.3693j]\n",
      "[[ 0.0632+0.6264j  0.0632-0.6264j  0.4707+0.j      0.4707-0.j    ]\n",
      " [-0.0245-0.2427j -0.0245+0.2427j  0.8099+0.j      0.8099-0.j    ]\n",
      " [-0.6878+0.j     -0.6878-0.j     -0.0268+0.1738j -0.0268-0.1738j]\n",
      " [ 0.2665+0.j      0.2665-0.j     -0.0461+0.2991j -0.0461-0.2991j]]\n"
     ]
    }
   ],
   "source": [
    "w, v = LA.eig(A)\n",
    "\n",
    "print(np.round_(w,4))\n",
    "print(np.round_(v,4))"
   ]
  },
  {
   "cell_type": "markdown",
   "metadata": {},
   "source": [
    "[Back to top](#top)\n",
    "\n",
    "##Non proportionally damped system\n",
    "\n",
    "In non proportionally damped systems the damping matrix can be any:"
   ]
  },
  {
   "cell_type": "code",
   "execution_count": 7,
   "metadata": {
    "collapsed": false
   },
   "outputs": [
    {
     "name": "stdout",
     "output_type": "stream",
     "text": [
      "[[ 0.          0.          1.          0.        ]\n",
      " [ 0.          0.          0.          1.        ]\n",
      " [-1.          0.5        -0.2         0.05      ]\n",
      " [ 0.33333333 -0.33333333  0.03333333 -0.03333333]]\n"
     ]
    }
   ],
   "source": [
    "C2 = np.matrix([[0.4, -0.1],[-0.1, 0.1]])\n",
    "A = np.bmat([[np.zeros_like(MM), np.identity(MM.shape[0])], [LA.solve(-MM,KK), LA.solve(-MM,C2)]])\n",
    "\n",
    "print(A)"
   ]
  },
  {
   "cell_type": "code",
   "execution_count": 8,
   "metadata": {
    "collapsed": false
   },
   "outputs": [
    {
     "name": "stdout",
     "output_type": "stream",
     "text": [
      "[-0.1005+1.0872j -0.1005-1.0872j -0.0162+0.3736j -0.0162-0.3736j]\n",
      "[[ 0.0580+0.6276j  0.0580-0.6276j  0.4703-0.0167j  0.4703+0.0167j]\n",
      " [-0.0473-0.2382j -0.0473+0.2382j  0.8099+0.j      0.8099-0.j    ]\n",
      " [-0.6881+0.j     -0.6881-0.j     -0.0014+0.1759j -0.0014-0.1759j]\n",
      " [ 0.2638-0.0275j  0.2638+0.0275j -0.0131+0.3026j -0.0131-0.3026j]]\n"
     ]
    }
   ],
   "source": [
    "w, v = LA.eig(A)\n",
    "\n",
    "print(np.round_(w,4))\n",
    "print(np.round_(v,4))"
   ]
  },
  {
   "cell_type": "markdown",
   "metadata": {},
   "source": [
    "[Back to top](#top)\n",
    "\n",
    "## Odds and ends\n",
    "\n",
    "This notebook was created by Paulo Xavier Candeias.\n",
    "\n",
    "[Back to top](#top)"
   ]
  }
 ],
 "metadata": {
  "kernelspec": {
   "display_name": "Python 2",
   "language": "python",
   "name": "python2"
  },
  "language_info": {
   "codemirror_mode": {
    "name": "ipython",
    "version": 2
   },
   "file_extension": ".py",
   "mimetype": "text/x-python",
   "name": "python",
   "nbconvert_exporter": "python",
   "pygments_lexer": "ipython2",
   "version": "2.7.9"
  }
 },
 "nbformat": 4,
 "nbformat_minor": 0
}
