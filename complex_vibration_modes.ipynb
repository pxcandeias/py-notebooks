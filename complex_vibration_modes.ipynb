{
 "cells": [
  {
   "cell_type": "markdown",
   "metadata": {},
   "source": [
    "<a id='top'></a>\n",
    "\n",
    "# Complex vibration modes\n",
    "\n",
    "Complex vibration modes arise in experimental research and numerical simulations when non proportional damping is adopted. In such cases a state space formulation of the second order differential dynamic equilibrium equation is required in order to adress the problem adequately.\n",
    "\n",
    "This notebook is inspired in one of [Pete Avitabile's Modal Space articles](http://macl.caeds.eng.uml.edu/umlspace/mspace.html), namely the one discussing the difference between [complex modes and real normal modes](http://sem.org/ArtDownLoad/msmj02.pdf). Additional information about state space formulation in structural dynamics can be found for example [here](http://dspace.mit.edu/bitstream/handle/1721.1/38777/35332523.pdf).\n",
    "\n",
    "## Table of contents\n",
    "\n",
    "[Preamble](#Preamble)\n",
    "\n",
    "[Dynamic equilibrium equation](#Dynamic-equilibrium-equation)\n",
    "\n",
    "[State space formulation](#State-space-formulation)\n",
    "\n",
    "[Dynamic system setup](#Dynamic-system-setup)\n",
    "\n",
    "[Undampanded system](#Undamped-system)\n",
    "\n",
    "[Proportionally dampanded system](#Proportionally-damped-system)\n",
    "\n",
    "[Non proportionally dampanded system](#Non-proportionally-damped-system)\n",
    "\n",
    "[Odds and ends](#Odds-and-ends)\n",
    "\n",
    "## Preamble\n",
    "\n",
    "Let us start by setting up the environment for this notebook. Since it was created with Python 2.7, we will import a few things from the \"future\". Furthermore, we will need numpy and scipy for the numerical simulations and matplotlib for the plots:"
   ]
  },
  {
   "cell_type": "code",
   "execution_count": 1,
   "metadata": {
    "collapsed": false
   },
   "outputs": [
    {
     "name": "stdout",
     "output_type": "stream",
     "text": [
      "System: 2.7.9 |Anaconda 2.1.0 (32-bit)| (default, Mar  9 2015, 16:21:41) \n",
      "[GCC 4.4.7 20120313 (Red Hat 4.4.7-1)]\n",
      "numpy version: 1.9.2\n",
      "scipy version: 0.15.1\n",
      "matplotlib version: 1.4.3\n"
     ]
    }
   ],
   "source": [
    "from __future__ import division, print_function\n",
    "\n",
    "import sys\n",
    "import numpy as np\n",
    "import scipy as sp\n",
    "import matplotlib as mpl\n",
    "\n",
    "print('System: {}'.format(sys.version))\n",
    "print('numpy version: {}'.format(np.__version__))\n",
    "print('scipy version: {}'.format(sp.__version__))\n",
    "print('matplotlib version: {}'.format(mpl.__version__))"
   ]
  },
  {
   "cell_type": "markdown",
   "metadata": {},
   "source": [
    "We will also need some specific modules and a litle \"IPython magic\" to show the plots:"
   ]
  },
  {
   "cell_type": "code",
   "execution_count": 2,
   "metadata": {
    "collapsed": true
   },
   "outputs": [],
   "source": [
    "from numpy import linalg as LA\n",
    "import matplotlib.pyplot as plt\n",
    "\n",
    "%matplotlib inline"
   ]
  },
  {
   "cell_type": "markdown",
   "metadata": {},
   "source": [
    "[Back to top](#top)\n",
    "\n",
    "## Dynamic equilibrium equation\n",
    "\n",
    "In structural dynamics the second order differential dynamic equilibrium equation can be written in terms of generalized coordinates (d[isplacement]) and their first (v[elocity]) and second (a[cceleration]) time derivatives:\n",
    "\n",
    "\\begin{equation}\n",
    "\\mathbf{M(t)} \\times \\mathbf{a(t)} + \\mathbf{C(t)} \\times \\mathbf{v(t)} + \\mathbf{K(t)} \\times \\mathbf{d(t)} = \\mathbf{F(t)}\n",
    "\\end{equation}\n",
    "\n",
    "[MathJax reference](http://nbviewer.ipython.org/github/adrn/ipython/blob/2.x/examples/Notebook/Typesetting%20Math%20Using%20MathJax.ipynb)\n",
    "\n",
    "where:\n",
    "\n",
    "> $\\mathbf{M}$ is the mass matrix  \n",
    "> $\\mathbf{C}$ is the damping matrix  \n",
    "> $\\mathbf{K}$ is the stiffness matrix  \n",
    "> $\\mathbf{a(t)}$ is the acceleration vector  \n",
    "> $\\mathbf{v(t)}$ is the velocity vector  \n",
    "> $\\mathbf{d(t)}$ is the displacement vector  \n",
    "> $\\mathbf{F(t)}$ is the input force vector  \n",
    "\n",
    "All these matrices are of size $NDOF \\times NDOF$, where $NDOF$ is the number of generalized degrees of freedom of the dynamic system."
   ]
  },
  {
   "cell_type": "markdown",
   "metadata": {},
   "source": [
    "[Back to top](#top)\n",
    "\n",
    "## State space formulation\n",
    "\n",
    "In a [state space formulation](http://en.wikipedia.org/wiki/State-space_representation) the second order differential dynamic equilibrium equation is turned into a system of first order differential dynamic equilibrium equations:\n",
    "\n",
    "\\begin{equation}\n",
    "\\begin{matrix}\n",
    "\\mathbf{\\dot{x}(t)} = \\mathbf{A(t)} \\cdot \\mathbf{x(t)} + \\mathbf{B(t)} \\cdot \\mathbf{u(t)} \\\\\n",
    "\\mathbf{y(t)} = \\mathbf{C(t)} \\cdot \\mathbf{x(t)} + \\mathbf{D(t)} \\cdot \\mathbf{u(t)}\n",
    "\\end{matrix}\n",
    "\\end{equation}\n",
    "\n",
    "where\n",
    "\n",
    "> $\\mathbf{x(t)}$ is the state vector  \n",
    "> $\\mathbf{y(t)}$ is the output vector  \n",
    "> $\\mathbf{u(t)}$ is the input vector  \n",
    "\n",
    "The state vector, of size $2 \\times NDOF$ by $1$, has the following form:\n",
    "\n",
    "\\begin{equation}\n",
    "\\mathbf{x(t)} = \\left[ \\begin{matrix}\n",
    "\\mathbf{u(t)} \\\\\n",
    "\\mathbf{\\dot{u}(t)}\n",
    "\\end{matrix} \\right]\n",
    "\\end{equation}\n",
    "\n",
    "The system matrix, of size $2 \\times NDOF$ by $2 \\times NDOF$, is built using the M, C and K matrices:\n",
    "\n",
    "\\begin{equation*}\n",
    "\\mathbf{A} = \\left[ \\begin{matrix}\n",
    "\\mathbf{0} & \\mathbf{I} \\\\\n",
    "-\\mathbf{M}^{-1} \\cdot \\mathbf{K} & -\\mathbf{M}^{-1} \\cdot \\mathbf{C}\n",
    "\\end{matrix} \\right]\n",
    "\\end{equation*}\n",
    "\n",
    "The loading matrix, of size $2 \\times NDOF$ by $1$, is composed of 0's and 1's."
   ]
  },
  {
   "cell_type": "markdown",
   "metadata": {},
   "source": [
    "[Back to top](#top)\n",
    "\n",
    "##Dynamic system setup\n",
    "\n",
    "In this example we will use the folowing mass and stiffness matrices:"
   ]
  },
  {
   "cell_type": "code",
   "execution_count": 3,
   "metadata": {
    "collapsed": false
   },
   "outputs": [
    {
     "name": "stdout",
     "output_type": "stream",
     "text": [
      "[[2 0]\n",
      " [0 3]]\n"
     ]
    }
   ],
   "source": [
    "MM = np.matrix(np.diag([2,3]))\n",
    "print(MM)"
   ]
  },
  {
   "cell_type": "code",
   "execution_count": 4,
   "metadata": {
    "collapsed": false
   },
   "outputs": [
    {
     "name": "stdout",
     "output_type": "stream",
     "text": [
      "[[ 2 -1]\n",
      " [-1  1]]\n"
     ]
    }
   ],
   "source": [
    "KK = np.matrix([[2, -1],[-1, 1]])\n",
    "print(KK)"
   ]
  },
  {
   "cell_type": "markdown",
   "metadata": {},
   "source": [
    "Let us perform the eigenanalysis of the (undamped) second order differential dynamic equilibrium equation for later comparison of results:"
   ]
  },
  {
   "cell_type": "code",
   "execution_count": 5,
   "metadata": {
    "collapsed": false
   },
   "outputs": [
    {
     "name": "stdout",
     "output_type": "stream",
     "text": [
      "[ 0.1396  1.1937]\n",
      "[[ 0.5025  0.9325]\n",
      " [ 0.8646 -0.3613]]\n"
     ]
    }
   ],
   "source": [
    "W2, F1 = LA.eig(LA.solve(MM,KK)) # eigenanalysis\n",
    "ix = np.argsort(np.absolute(W2)) # sort eigenvalues in ascending order\n",
    "W2 = W2[ix] # sorted eigenvalues\n",
    "F1 = F1[:,ix] # sorted eigenvectors\n",
    "print(np.round_(W2, 4))\n",
    "print(np.round_(F1, 4))"
   ]
  },
  {
   "cell_type": "markdown",
   "metadata": {},
   "source": [
    "The angular frequencies are computed as the square root of the eigenvalues:"
   ]
  },
  {
   "cell_type": "code",
   "execution_count": 6,
   "metadata": {
    "collapsed": false
   },
   "outputs": [
    {
     "name": "stdout",
     "output_type": "stream",
     "text": [
      "[ 0.37365812  1.09257171]\n"
     ]
    }
   ],
   "source": [
    "print(np.sqrt(W2))"
   ]
  },
  {
   "cell_type": "markdown",
   "metadata": {},
   "source": [
    "The modal vectors, the columns of the modal matrix, have unit norm:"
   ]
  },
  {
   "cell_type": "code",
   "execution_count": 7,
   "metadata": {
    "collapsed": false
   },
   "outputs": [
    {
     "name": "stdout",
     "output_type": "stream",
     "text": [
      "[ 1.  1.]\n"
     ]
    }
   ],
   "source": [
    "print(LA.norm(F1, axis=0))"
   ]
  },
  {
   "cell_type": "markdown",
   "metadata": {},
   "source": [
    "[Back to top](#top)\n",
    "\n",
    "##Undamped system\n",
    "\n",
    "In the undamped system, the damping matrix is all zeros:"
   ]
  },
  {
   "cell_type": "code",
   "execution_count": 8,
   "metadata": {
    "collapsed": false
   },
   "outputs": [
    {
     "name": "stdout",
     "output_type": "stream",
     "text": [
      "[[0 0]\n",
      " [0 0]]\n"
     ]
    }
   ],
   "source": [
    "C0 = np.matrix(np.zeros_like(MM))\n",
    "print(C0)"
   ]
  },
  {
   "cell_type": "markdown",
   "metadata": {},
   "source": [
    "The system matrix is the following:"
   ]
  },
  {
   "cell_type": "code",
   "execution_count": 9,
   "metadata": {
    "collapsed": false
   },
   "outputs": [
    {
     "name": "stdout",
     "output_type": "stream",
     "text": [
      "[[ 0.          0.          1.          0.        ]\n",
      " [ 0.          0.          0.          1.        ]\n",
      " [-1.          0.5        -0.         -0.        ]\n",
      " [ 0.33333333 -0.33333333 -0.         -0.        ]]\n"
     ]
    }
   ],
   "source": [
    "A = np.bmat([[np.zeros_like(MM), np.identity(MM.shape[0])], [LA.solve(-MM,KK), LA.solve(-MM,C0)]])\n",
    "print(A)"
   ]
  },
  {
   "cell_type": "markdown",
   "metadata": {},
   "source": [
    "Performing the eigenanalysis on this matrix yields the following complex valued results:"
   ]
  },
  {
   "cell_type": "code",
   "execution_count": 10,
   "metadata": {
    "collapsed": false
   },
   "outputs": [
    {
     "name": "stdout",
     "output_type": "stream",
     "text": [
      "[ 0.+0.3737j  0.-0.3737j -0.+1.0926j -0.-1.0926j]\n",
      "[[ 0.4707+0.j      0.4707-0.j     -0.0000-0.6296j -0.0000+0.6296j]\n",
      " [ 0.8099+0.j      0.8099-0.j      0.0000+0.2439j  0.0000-0.2439j]\n",
      " [ 0.0000+0.1759j  0.0000-0.1759j  0.6878+0.j      0.6878-0.j    ]\n",
      " [-0.0000+0.3026j -0.0000-0.3026j -0.2665+0.j     -0.2665-0.j    ]]\n"
     ]
    }
   ],
   "source": [
    "w0, v0 = LA.eig(A)\n",
    "ix = np.argsort(np.absolute(w0))\n",
    "w0 = w0[ix]\n",
    "v0 = v0[:,ix]\n",
    "print(np.round_(w0, 4))\n",
    "print(np.round_(v0, 4))"
   ]
  },
  {
   "cell_type": "markdown",
   "metadata": {},
   "source": [
    "As we can see, the eigenvalues come in complex conjugate pairs. Therefore we can for instance take only the ones in the [upper half-plane](http://en.wikipedia.org/wiki/Upper_half-plane):"
   ]
  },
  {
   "cell_type": "code",
   "execution_count": 11,
   "metadata": {
    "collapsed": false
   },
   "outputs": [
    {
     "name": "stdout",
     "output_type": "stream",
     "text": [
      "[ 0.+0.3737j -0.+1.0926j]\n"
     ]
    }
   ],
   "source": [
    "print(np.round_(w0[[0,2]], 4))"
   ]
  },
  {
   "cell_type": "markdown",
   "metadata": {},
   "source": [
    "In this case, since damping is zero, the real part of the complex eigenvalues is also zero (apart from [round-off errors](http://en.wikipedia.org/wiki/Round-off_error)) and the imaginary part is equal to the angular frequency computed previously:"
   ]
  },
  {
   "cell_type": "code",
   "execution_count": 12,
   "metadata": {
    "collapsed": false
   },
   "outputs": [
    {
     "name": "stdout",
     "output_type": "stream",
     "text": [
      "[ 0.37365812  1.09257171]\n"
     ]
    }
   ],
   "source": [
    "print(w0[[0,2]].imag)"
   ]
  },
  {
   "cell_type": "markdown",
   "metadata": {},
   "source": [
    "The columns of the modal matrix, the modal vectors, also come in conjugate pairs. Each vector has unit norm:"
   ]
  },
  {
   "cell_type": "code",
   "execution_count": 13,
   "metadata": {
    "collapsed": false
   },
   "outputs": [
    {
     "name": "stdout",
     "output_type": "stream",
     "text": [
      "[ 1.  1.]\n"
     ]
    }
   ],
   "source": [
    "print(LA.norm(v0[:,[0,2]], axis=0))"
   ]
  },
  {
   "cell_type": "markdown",
   "metadata": {},
   "source": [
    "Furthermore, the modal matrix is composed of four blocks ([[AA,AB],[BA,BB]]), each with $NDOF \\times NDOF$ dimension:"
   ]
  },
  {
   "cell_type": "code",
   "execution_count": 14,
   "metadata": {
    "collapsed": false
   },
   "outputs": [
    {
     "name": "stdout",
     "output_type": "stream",
     "text": [
      "[[ 0.4707+0.j      0.4707-0.j     -0.0000-0.6296j -0.0000+0.6296j]\n",
      " [ 0.8099+0.j      0.8099-0.j      0.0000+0.2439j  0.0000-0.2439j]\n",
      " [-0.0000+0.1759j -0.0000-0.1759j  0.6878-0.j      0.6878+0.j    ]\n",
      " [ 0.0000+0.3026j  0.0000-0.3026j -0.2665+0.j     -0.2665-0.j    ]]\n"
     ]
    }
   ],
   "source": [
    "AA = v0[:2,[0,2]]\n",
    "AB = AA.conjugate()\n",
    "BA = np.multiply(AA,w0[[0,2]])\n",
    "BB = BA.conjugate()\n",
    "v0_new = np.bmat([[AA, AB], [BA, BB]])\n",
    "print(np.round_(v0_new[:,[0,2,1,3]], 4))"
   ]
  },
  {
   "cell_type": "markdown",
   "metadata": {},
   "source": [
    "To help visualize the modal vectors we will perform a polar plot of the respective amplitude and angle:"
   ]
  },
  {
   "cell_type": "code",
   "execution_count": 15,
   "metadata": {
    "collapsed": false
   },
   "outputs": [
    {
     "data": {
      "image/png": "[encoded data removed]",
      "text/plain": [
       "<matplotlib.figure.Figure at 0xaf406b4c>"
      ]
     },
     "metadata": {},
     "output_type": "display_data"
    }
   ],
   "source": [
    "fig, ax = plt.subplots(1, 2, subplot_kw=dict(polar=True))\n",
    "for mode in range(2):\n",
    "    ax[mode].set_title('Mode #{}'.format(mode+1))\n",
    "    for dof in range(2):\n",
    "        r = np.array([0, np.absolute(v0[dof,2*mode])])\n",
    "        t = np.array([0, np.angle(v0[dof,2*mode])])\n",
    "        ax[mode].plot(t, r, 'o-', label='DOF #{}'.format(dof+1))\n",
    "plt.legend(loc='lower left', bbox_to_anchor=(1., 0.))\n",
    "plt.show()"
   ]
  },
  {
   "cell_type": "markdown",
   "metadata": {},
   "source": [
    "[Back to top](#top)\n",
    "\n",
    "##Proportionally damped system\n",
    "\n",
    "In a proportionally damped system, the damping matrix is proportional to the mass and stiffness matrices:\n",
    "\n",
    "\\begin{equation*}\n",
    "\\mathbf{C} = \\alpha \\times \\mathbf{M} + \\beta \\times \\mathbf{K}\n",
    "\\end{equation*}\n",
    "\n",
    "Let us assume $\\alpha$ to be 0.1 and $\\beta$ to be 0.1. This yields the following damping matrix:"
   ]
  },
  {
   "cell_type": "code",
   "execution_count": 16,
   "metadata": {
    "collapsed": false
   },
   "outputs": [
    {
     "name": "stdout",
     "output_type": "stream",
     "text": [
      "[[ 0.4 -0.1]\n",
      " [-0.1  0.4]]\n"
     ]
    }
   ],
   "source": [
    "C1 = 0.1*MM+0.1*KK\n",
    "print(C1)"
   ]
  },
  {
   "cell_type": "markdown",
   "metadata": {},
   "source": [
    "This damping matrix is orthogonal because the mass and stiffness are also orthogonal:"
   ]
  },
  {
   "cell_type": "code",
   "execution_count": 17,
   "metadata": {
    "collapsed": false
   },
   "outputs": [
    {
     "name": "stdout",
     "output_type": "stream",
     "text": [
      "[[ 0.3131  0.    ]\n",
      " [ 0.      0.4674]]\n"
     ]
    }
   ],
   "source": [
    "print(np.round_(F1.T*C1*F1, 4))"
   ]
  },
  {
   "cell_type": "markdown",
   "metadata": {},
   "source": [
    "The system matrix is the following:"
   ]
  },
  {
   "cell_type": "code",
   "execution_count": 18,
   "metadata": {
    "collapsed": false
   },
   "outputs": [
    {
     "name": "stdout",
     "output_type": "stream",
     "text": [
      "[[ 0.          0.          1.          0.        ]\n",
      " [ 0.          0.          0.          1.        ]\n",
      " [-1.          0.5        -0.2         0.05      ]\n",
      " [ 0.33333333 -0.33333333  0.03333333 -0.13333333]]\n"
     ]
    }
   ],
   "source": [
    "A = np.bmat([[np.zeros_like(MM), np.identity(MM.shape[0])], [LA.solve(-MM,KK), LA.solve(-MM,C1)]])\n",
    "print(A)"
   ]
  },
  {
   "cell_type": "markdown",
   "metadata": {},
   "source": [
    "The eigenanalysis yields the following results:"
   ]
  },
  {
   "cell_type": "code",
   "execution_count": 19,
   "metadata": {
    "collapsed": false
   },
   "outputs": [
    {
     "name": "stdout",
     "output_type": "stream",
     "text": [
      "[-0.0570+0.3693j -0.0570-0.3693j -0.1097+1.0871j -0.1097-1.0871j]\n",
      "[[ 0.4707+0.j      0.4707-0.j      0.0632+0.6264j  0.0632-0.6264j]\n",
      " [ 0.8099+0.j      0.8099-0.j     -0.0245-0.2427j -0.0245+0.2427j]\n",
      " [-0.0268+0.1738j -0.0268-0.1738j -0.6878+0.j     -0.6878-0.j    ]\n",
      " [-0.0461+0.2991j -0.0461-0.2991j  0.2665+0.j      0.2665-0.j    ]]\n"
     ]
    }
   ],
   "source": [
    "w1, v1 = LA.eig(A)\n",
    "ix = np.argsort(np.absolute(w1))\n",
    "w1 = w1[ix]\n",
    "v1 = v1[:,ix]\n",
    "print(np.round_(w1, 4))\n",
    "print(np.round_(v1, 4))"
   ]
  },
  {
   "cell_type": "markdown",
   "metadata": {},
   "source": [
    "As we can see, the eigenvalues come in complex conjugate pairs. Therefore, we can for instance take only the ones in the [upper half-plane](http://en.wikipedia.org/wiki/Upper_half-plane):"
   ]
  },
  {
   "cell_type": "code",
   "execution_count": 20,
   "metadata": {
    "collapsed": false
   },
   "outputs": [
    {
     "name": "stdout",
     "output_type": "stream",
     "text": [
      "[-0.0570+0.3693j -0.1097+1.0871j]\n"
     ]
    }
   ],
   "source": [
    "print(np.round_(w1[[0,2]], 4))"
   ]
  },
  {
   "cell_type": "markdown",
   "metadata": {},
   "source": [
    "These complex eigenvalues can be decomposed into angular frequency and damping coefficient:"
   ]
  },
  {
   "cell_type": "code",
   "execution_count": 21,
   "metadata": {
    "collapsed": false
   },
   "outputs": [
    {
     "name": "stdout",
     "output_type": "stream",
     "text": [
      "Angular frequency: [ 0.37365812  1.09257171]\n",
      "Damping coeficient: [ 0.15249507  0.10039217]\n"
     ]
    }
   ],
   "source": [
    "zw = -w1.real # damping coefficient time angular frequency\n",
    "wD = w1.imag # damped angular frequency\n",
    "zn = 1./np.sqrt(1.+(wD/-zw)**2) # the minus sign is formally correct!\n",
    "wn = zw/zn # undamped angular frequency\n",
    "print('Angular frequency: {}'.format(wn[[0,2]]))\n",
    "print('Damping coeficient: {}'.format(zn[[0,2]]))"
   ]
  },
  {
   "cell_type": "markdown",
   "metadata": {},
   "source": [
    "The columns of the modal matrix, the modal vectors, also come in conjugate pairs and each vector has unit norm:"
   ]
  },
  {
   "cell_type": "code",
   "execution_count": 22,
   "metadata": {
    "collapsed": false
   },
   "outputs": [
    {
     "name": "stdout",
     "output_type": "stream",
     "text": [
      "[ 1.  1.]\n"
     ]
    }
   ],
   "source": [
    "print(LA.norm(v1[:,[0,2]], axis=0))"
   ]
  },
  {
   "cell_type": "markdown",
   "metadata": {},
   "source": [
    "Furthermore, the modal matrix is composed of four blocks ([[AA,AB],[BA,BB]]), each with $NDOF \\times NDOF$ dimension:"
   ]
  },
  {
   "cell_type": "code",
   "execution_count": 23,
   "metadata": {
    "collapsed": false
   },
   "outputs": [
    {
     "name": "stdout",
     "output_type": "stream",
     "text": [
      "[[ 0.4707+0.j      0.4707-0.j      0.0632+0.6264j  0.0632-0.6264j]\n",
      " [ 0.8099+0.j      0.8099-0.j     -0.0245-0.2427j -0.0245+0.2427j]\n",
      " [-0.0268+0.1738j -0.0268-0.1738j -0.6878+0.j     -0.6878-0.j    ]\n",
      " [-0.0461+0.2991j -0.0461-0.2991j  0.2665+0.j      0.2665-0.j    ]]\n"
     ]
    }
   ],
   "source": [
    "AA = v1[:2,[0,2]]\n",
    "AB = AA.conjugate()\n",
    "BA = np.multiply(AA,w1[[0,2]])\n",
    "BB = BA.conjugate()\n",
    "v1_new = np.bmat([[AA, AB], [BA, BB]])\n",
    "print(np.round_(v1_new[:,[0,2,1,3]], 4))"
   ]
  },
  {
   "cell_type": "markdown",
   "metadata": {},
   "source": [
    "We will visualize again the modal vectors through a polar plot of the respective amplitude and angle:"
   ]
  },
  {
   "cell_type": "code",
   "execution_count": 24,
   "metadata": {
    "collapsed": false
   },
   "outputs": [
    {
     "data": {
      "image/png": "[encoded data removed]",
      "text/plain": [
       "<matplotlib.figure.Figure at 0xaf40636c>"
      ]
     },
     "metadata": {},
     "output_type": "display_data"
    }
   ],
   "source": [
    "fig, ax = plt.subplots(1, 2, subplot_kw=dict(polar=True))\n",
    "for mode in range(2):\n",
    "    ax[mode].set_title('Mode #{}'.format(mode+1))\n",
    "    for dof in range(2):\n",
    "        r = np.array([0, np.absolute(v1[dof,2*mode])])\n",
    "        t = np.array([0, np.angle(v1[dof,2*mode])])\n",
    "        ax[mode].plot(t, r, 'o-', label='DOF #{}'.format(dof+1))\n",
    "plt.legend(loc='lower left', bbox_to_anchor=(1., 0.))\n",
    "plt.show()"
   ]
  },
  {
   "cell_type": "markdown",
   "metadata": {},
   "source": [
    "[Back to top](#top)\n",
    "\n",
    "##Non proportionally damped system\n",
    "\n",
    "In non proportionally damped systems the damping matrix is not proportional neither to the mass matrix nor the stiffness matrix. Let us consider the following damping matrix:"
   ]
  },
  {
   "cell_type": "code",
   "execution_count": 25,
   "metadata": {
    "collapsed": false
   },
   "outputs": [
    {
     "name": "stdout",
     "output_type": "stream",
     "text": [
      "[[ 0.4 -0.1]\n",
      " [-0.1  0.1]]\n"
     ]
    }
   ],
   "source": [
    "C2 = np.matrix([[0.4, -0.1],[-0.1, 0.1]])\n",
    "print(C2)"
   ]
  },
  {
   "cell_type": "markdown",
   "metadata": {},
   "source": [
    "Non proportinal damping means that the damping matrix is not orthogonal anymore:"
   ]
  },
  {
   "cell_type": "code",
   "execution_count": 26,
   "metadata": {
    "collapsed": false
   },
   "outputs": [
    {
     "name": "stdout",
     "output_type": "stream",
     "text": [
      "[[ 0.0889  0.0937]\n",
      " [ 0.0937  0.4282]]\n"
     ]
    }
   ],
   "source": [
    "print(np.round_(F1.T*C2*F1, 4))"
   ]
  },
  {
   "cell_type": "markdown",
   "metadata": {},
   "source": [
    "The system matrix is the following:"
   ]
  },
  {
   "cell_type": "code",
   "execution_count": 27,
   "metadata": {
    "collapsed": false
   },
   "outputs": [
    {
     "name": "stdout",
     "output_type": "stream",
     "text": [
      "[[ 0.          0.          1.          0.        ]\n",
      " [ 0.          0.          0.          1.        ]\n",
      " [-1.          0.5        -0.2         0.05      ]\n",
      " [ 0.33333333 -0.33333333  0.03333333 -0.03333333]]\n"
     ]
    }
   ],
   "source": [
    "A = np.bmat([[np.zeros_like(MM), np.identity(MM.shape[0])], [LA.solve(-MM,KK), LA.solve(-MM,C2)]])\n",
    "print(A)"
   ]
  },
  {
   "cell_type": "markdown",
   "metadata": {},
   "source": [
    "The eigenanalysis yields the following results:"
   ]
  },
  {
   "cell_type": "code",
   "execution_count": 28,
   "metadata": {
    "collapsed": false
   },
   "outputs": [
    {
     "name": "stdout",
     "output_type": "stream",
     "text": [
      "[-0.0162+0.3736j -0.0162-0.3736j -0.1005+1.0872j -0.1005-1.0872j]\n",
      "[[ 0.4703-0.0167j  0.4703+0.0167j  0.0580+0.6276j  0.0580-0.6276j]\n",
      " [ 0.8099+0.j      0.8099-0.j     -0.0473-0.2382j -0.0473+0.2382j]\n",
      " [-0.0014+0.1759j -0.0014-0.1759j -0.6881+0.j     -0.6881-0.j    ]\n",
      " [-0.0131+0.3026j -0.0131-0.3026j  0.2638-0.0275j  0.2638+0.0275j]]\n"
     ]
    }
   ],
   "source": [
    "w2, v2 = LA.eig(A)\n",
    "ix = np.argsort(np.absolute(w2))\n",
    "w2 = w2[ix]\n",
    "v2 = v2[:,ix]\n",
    "print(np.round_(w2, 4))\n",
    "print(np.round_(v2, 4))"
   ]
  },
  {
   "cell_type": "markdown",
   "metadata": {},
   "source": [
    "As we can see, the eigenvalues come in complex conjugate pairs. Therefore, we can for instance take only the ones in the [upper half-plane](http://en.wikipedia.org/wiki/Upper_half-plane):"
   ]
  },
  {
   "cell_type": "code",
   "execution_count": 29,
   "metadata": {
    "collapsed": false
   },
   "outputs": [
    {
     "name": "stdout",
     "output_type": "stream",
     "text": [
      "[-0.0162+0.3736j -0.1005+1.0872j]\n"
     ]
    }
   ],
   "source": [
    "print(np.round_(w2[[0,2]], 4))"
   ]
  },
  {
   "cell_type": "markdown",
   "metadata": {},
   "source": [
    "These complex eigenvalues can be decomposed into angular frequency and damping coefficient much like in the propotional damping case:"
   ]
  },
  {
   "cell_type": "code",
   "execution_count": 30,
   "metadata": {
    "collapsed": false
   },
   "outputs": [
    {
     "name": "stdout",
     "output_type": "stream",
     "text": [
      "Angular frequency: [ 0.37392474  1.09179266]\n",
      "Damping coeficient: [ 0.04326203  0.09204121]\n"
     ]
    }
   ],
   "source": [
    "zw = -w2.real # damping coefficient time angular frequency\n",
    "wD = w2.imag # damped angular frequency\n",
    "zn = 1./np.sqrt(1.+(wD/-zw)**2) # the minus sign is formally correct!\n",
    "wn = zw/zn # undamped angular frequency\n",
    "print('Angular frequency: {}'.format(wn[[0,2]]))\n",
    "print('Damping coeficient: {}'.format(zn[[0,2]]))"
   ]
  },
  {
   "cell_type": "markdown",
   "metadata": {},
   "source": [
    "Again, the columns of the modal matrix, the modal vectors, also come in conjugate pairs, and each vector has unit norm:"
   ]
  },
  {
   "cell_type": "code",
   "execution_count": 31,
   "metadata": {
    "collapsed": false
   },
   "outputs": [
    {
     "name": "stdout",
     "output_type": "stream",
     "text": [
      "[ 1.  1.]\n"
     ]
    }
   ],
   "source": [
    "print(LA.norm(v2[:,[0,2]], axis=0))"
   ]
  },
  {
   "cell_type": "markdown",
   "metadata": {},
   "source": [
    "Furthermore, the modal matrix is composed of four blocks ([[AA,AB],[BA,BB]]), each with $NDOF \\times NDOF$ dimension:"
   ]
  },
  {
   "cell_type": "code",
   "execution_count": 32,
   "metadata": {
    "collapsed": false
   },
   "outputs": [
    {
     "name": "stdout",
     "output_type": "stream",
     "text": [
      "[[ 0.4703-0.0167j  0.4703+0.0167j  0.0580+0.6276j  0.0580-0.6276j]\n",
      " [ 0.8099+0.j      0.8099-0.j     -0.0473-0.2382j -0.0473+0.2382j]\n",
      " [-0.0014+0.1759j -0.0014-0.1759j -0.6881+0.j     -0.6881-0.j    ]\n",
      " [-0.0131+0.3026j -0.0131-0.3026j  0.2638-0.0275j  0.2638+0.0275j]]\n"
     ]
    }
   ],
   "source": [
    "AA = v2[:2,[0,2]]\n",
    "AB = AA.conjugate()\n",
    "BA = np.multiply(AA,w2[[0,2]])\n",
    "BB = BA.conjugate()\n",
    "v2_new = np.bmat([[AA, AB], [BA, BB]])\n",
    "print(np.round_(v2_new[:,[0,2,1,3]], 4))"
   ]
  },
  {
   "cell_type": "markdown",
   "metadata": {},
   "source": [
    "Once more we will visualize the modal vectors through a polar plot of the respective amplitude and angle:"
   ]
  },
  {
   "cell_type": "code",
   "execution_count": 33,
   "metadata": {
    "collapsed": false
   },
   "outputs": [
    {
     "data": {
      "image/png": "[encoded data removed]",
      "text/plain": [
       "<matplotlib.figure.Figure at 0xaf31036c>"
      ]
     },
     "metadata": {},
     "output_type": "display_data"
    }
   ],
   "source": [
    "fig, ax = plt.subplots(1, 2, subplot_kw=dict(polar=True))\n",
    "for mode in range(2):\n",
    "    ax[mode].set_title('Mode #{}'.format(mode+1))\n",
    "    for dof in range(2):\n",
    "        r = np.array([0, np.absolute(v2[dof,2*mode])])\n",
    "        t = np.array([0, np.angle(v2[dof,2*mode])])\n",
    "        ax[mode].plot(t, r, 'o-', label='DOF #{}'.format(dof+1))\n",
    "plt.legend(loc='lower left', bbox_to_anchor=(1., 0.))\n",
    "plt.show()"
   ]
  },
  {
   "cell_type": "markdown",
   "metadata": {},
   "source": [
    "[Back to top](#top)\n",
    "\n",
    "## Odds and ends\n",
    "\n",
    "This notebook was created by Paulo Xavier Candeias.\n",
    "\n",
    "[Back to top](#top)"
   ]
  }
 ],
 "metadata": {
  "kernelspec": {
   "display_name": "Python 2",
   "language": "python",
   "name": "python2"
  },
  "language_info": {
   "codemirror_mode": {
    "name": "ipython",
    "version": 2
   },
   "file_extension": ".py",
   "mimetype": "text/x-python",
   "name": "python",
   "nbconvert_exporter": "python",
   "pygments_lexer": "ipython2",
   "version": "2.7.9"
  }
 },
 "nbformat": 4,
 "nbformat_minor": 0
}
